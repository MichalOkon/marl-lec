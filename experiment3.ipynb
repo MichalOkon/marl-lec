{
 "cells": [
  {
   "cell_type": "code",
   "execution_count": 6,
   "metadata": {
    "collapsed": true
   },
   "outputs": [],
   "source": [
    "from src.experiments.experiment_runner import ExperimentRunner\n",
    "from src.utils.plotting.eval_reward_plotting import read_and_plot_multiple_final_eval_rewards_grouped\n",
    "from src.utils.match_utils import get_results_by_coeff\n",
    "from src.utils.match_utils import perform_pairwise_analysis_baseline\n",
    "from src.utils.match_utils import plot_and_save_rewards_by_coeff\n",
    "from src.utils.plotting.energy_plots import run_energy_plotting\n",
    "\n",
    "%matplotlib notebook"
   ]
  },
  {
   "cell_type": "code",
   "execution_count": null,
   "outputs": [],
   "source": [
    "def get_experiment_name(common_reward_factor, price_based=False):\n",
    "    if price_based:\n",
    "        return \"dilemma_price_based_\" + str(common_reward_factor).replace(\".\", \"_\")\n",
    "    else:\n",
    "        return \"dilemma_\" + str(common_reward_factor).replace(\".\", \"_\")"
   ],
   "metadata": {
    "collapsed": false
   }
  },
  {
   "cell_type": "code",
   "execution_count": null,
   "outputs": [],
   "source": [
    "training_params = {\n",
    "    \"lr\": 5e-5,\n",
    "    \"gamma\": 0.99,\n",
    "    \"train_batch_size\": 50000,\n",
    "    \"sgd_minibatch_size\": 512,\n",
    "    \"clip_param\": 0.15,\n",
    "    \"num_sgd_iter\": 10,\n",
    "    'model': {\n",
    "        'fcnet_hiddens': [256, 256],\n",
    "        'fcnet_activation': 'relu',\n",
    "    },\n",
    "}"
   ],
   "metadata": {
    "collapsed": false
   }
  },
  {
   "cell_type": "code",
   "execution_count": null,
   "outputs": [],
   "source": [
    "# SSD mitigation with fixed common battery reward factor\n",
    "common_reward_factor = 0.0\n",
    "ssd_mitigation = ExperimentRunner(\n",
    "        [27, 27, 27],\n",
    "        results_dir=\"dilemma_runs\",\n",
    "        pricing_mode=\"tou\",\n",
    "        plot_rewards=True,\n",
    "        trading_phases=0,\n",
    "        pv_efficiency=0.5,\n",
    "        testing_mode=\"testing\",\n",
    "        training_params=training_params,\n",
    "        eval_interval=4,\n",
    "        log_plotting=False,\n",
    "        num_cpus=16,\n",
    "        common_reward_factor=common_reward_factor,\n",
    "        common_battery_type=\"default\"\n",
    "    )\n",
    "\n",
    "ssd_mitigation.run_multiple_training_runs({'few_months': 10}, get_experiment_name(common_reward_factor))"
   ],
   "metadata": {
    "collapsed": false
   }
  },
  {
   "cell_type": "code",
   "execution_count": 7,
   "outputs": [
    {
     "name": "stderr",
     "output_type": "stream",
     "text": [
      "2025-02-17 01:43:02,944\tINFO worker.py:1777 -- Started a local Ray instance. View the dashboard at \u001B[1m\u001B[32m127.0.0.1:8266 \u001B[39m\u001B[22m\n"
     ]
    },
    {
     "name": "stdout",
     "output_type": "stream",
     "text": [
      "Current working directory: C:\\Users\\micha\\Documents\\Przegrane\\Delft\\masters\\Thesis\\mine\n",
      "Trying to access: C:\\Users\\micha\\Documents\\Przegrane\\Delft\\masters\\Thesis\\mine\\src\\config\\battery_config,json\n",
      "Missing timestamps for household 27:\n",
      "Empty DataFrame\n",
      "Columns: [id, grid, solar, solar2, usage, total_solar, pv_prediction]\n",
      "Index: []\n",
      "Length of household 27 timeseries: 16224\n",
      "Current working directory: C:\\Users\\micha\\Documents\\Przegrane\\Delft\\masters\\Thesis\\mine\n",
      "Trying to access: C:\\Users\\micha\\Documents\\Przegrane\\Delft\\masters\\Thesis\\mine\\src\\config\\battery_config,json\n",
      "Missing timestamps for household 27:\n",
      "Empty DataFrame\n",
      "Columns: [id, grid, solar, solar2, usage, total_solar, pv_prediction]\n",
      "Index: []\n",
      "Length of household 27 timeseries: 16224\n",
      "Current working directory: C:\\Users\\micha\\Documents\\Przegrane\\Delft\\masters\\Thesis\\mine\n",
      "Trying to access: C:\\Users\\micha\\Documents\\Przegrane\\Delft\\masters\\Thesis\\mine\\src\\config\\battery_config,json\n",
      "Missing timestamps for household 27:\n",
      "Empty DataFrame\n",
      "Columns: [id, grid, solar, solar2, usage, total_solar, pv_prediction]\n",
      "Index: []\n",
      "Length of household 27 timeseries: 16224\n",
      "Current working directory: C:\\Users\\micha\\Documents\\Przegrane\\Delft\\masters\\Thesis\\mine\n",
      "Trying to access: C:\\Users\\micha\\Documents\\Przegrane\\Delft\\masters\\Thesis\\mine\\src\\config\\battery_config,json\n",
      "dict_keys(['27_0', '27_1', '27_2'])\n"
     ]
    },
    {
     "name": "stderr",
     "output_type": "stream",
     "text": [
      "2025-02-17 01:43:06,789\tWARNING deprecation.py:50 -- DeprecationWarning: `AlgorithmConfig.env_runners(num_rollout_workers)` has been deprecated. Use `AlgorithmConfig.env_runners(num_env_runners)` instead. This will raise an error in the future!\n",
      "2025-02-17 01:43:06,790\tWARNING deprecation.py:50 -- DeprecationWarning: `AlgorithmConfig.env_runners(num_envs_per_worker)` has been deprecated. Use `AlgorithmConfig.env_runners(num_envs_per_env_runner)` instead. This will raise an error in the future!\n"
     ]
    },
    {
     "name": "stdout",
     "output_type": "stream",
     "text": [
      "Current working directory: C:\\Users\\micha\\Documents\\Przegrane\\Delft\\masters\\Thesis\\mine\n",
      "Trying to access: C:\\Users\\micha\\Documents\\Przegrane\\Delft\\masters\\Thesis\\mine\\src\\config\\battery_config,json\n",
      "Missing timestamps for household 27:\n",
      "Empty DataFrame\n",
      "Columns: [id, grid, solar, solar2, usage, total_solar, pv_prediction]\n",
      "Index: []\n",
      "Length of household 27 timeseries: 1440\n",
      "Current working directory: C:\\Users\\micha\\Documents\\Przegrane\\Delft\\masters\\Thesis\\mine\n",
      "Trying to access: C:\\Users\\micha\\Documents\\Przegrane\\Delft\\masters\\Thesis\\mine\\src\\config\\battery_config,json\n",
      "Missing timestamps for household 27:\n",
      "Empty DataFrame\n",
      "Columns: [id, grid, solar, solar2, usage, total_solar, pv_prediction]\n",
      "Index: []\n",
      "Length of household 27 timeseries: 1440\n",
      "Current working directory: C:\\Users\\micha\\Documents\\Przegrane\\Delft\\masters\\Thesis\\mine\n",
      "Trying to access: C:\\Users\\micha\\Documents\\Przegrane\\Delft\\masters\\Thesis\\mine\\src\\config\\battery_config,json\n",
      "Missing timestamps for household 27:\n",
      "Empty DataFrame\n",
      "Columns: [id, grid, solar, solar2, usage, total_solar, pv_prediction]\n",
      "Index: []\n",
      "Length of household 27 timeseries: 1440\n",
      "Current working directory: C:\\Users\\micha\\Documents\\Przegrane\\Delft\\masters\\Thesis\\mine\n",
      "Trying to access: C:\\Users\\micha\\Documents\\Przegrane\\Delft\\masters\\Thesis\\mine\\src\\config\\battery_config,json\n",
      "dict_keys(['27_0', '27_1', '27_2'])\n",
      "Common reward factor:  1.0\n",
      "Common reward factor:  0.0\n",
      "Total timesteps per episode: 16208\n"
     ]
    },
    {
     "name": "stderr",
     "output_type": "stream",
     "text": [
      "C:\\Users\\micha\\miniconda3\\envs\\pyecom\\lib\\site-packages\\ray\\rllib\\algorithms\\algorithm.py:555: RayDeprecationWarning: This API is deprecated and may be removed in future Ray releases. You could suppress this warning by setting env variable PYTHONWARNINGS=\"ignore::DeprecationWarning\"\n",
      "`UnifiedLogger` will be removed in Ray 2.7.\n",
      "  return UnifiedLogger(config, logdir, loggers=None)\n",
      "C:\\Users\\micha\\miniconda3\\envs\\pyecom\\lib\\site-packages\\ray\\tune\\logger\\unified.py:53: RayDeprecationWarning: This API is deprecated and may be removed in future Ray releases. You could suppress this warning by setting env variable PYTHONWARNINGS=\"ignore::DeprecationWarning\"\n",
      "The `JsonLogger interface is deprecated in favor of the `ray.tune.json.JsonLoggerCallback` interface and will be removed in Ray 2.7.\n",
      "  self._loggers.append(cls(self.config, self.logdir, self.trial))\n",
      "C:\\Users\\micha\\miniconda3\\envs\\pyecom\\lib\\site-packages\\ray\\tune\\logger\\unified.py:53: RayDeprecationWarning: This API is deprecated and may be removed in future Ray releases. You could suppress this warning by setting env variable PYTHONWARNINGS=\"ignore::DeprecationWarning\"\n",
      "The `CSVLogger interface is deprecated in favor of the `ray.tune.csv.CSVLoggerCallback` interface and will be removed in Ray 2.7.\n",
      "  self._loggers.append(cls(self.config, self.logdir, self.trial))\n",
      "C:\\Users\\micha\\miniconda3\\envs\\pyecom\\lib\\site-packages\\ray\\tune\\logger\\unified.py:53: RayDeprecationWarning: This API is deprecated and may be removed in future Ray releases. You could suppress this warning by setting env variable PYTHONWARNINGS=\"ignore::DeprecationWarning\"\n",
      "The `TBXLogger interface is deprecated in favor of the `ray.tune.tensorboardx.TBXLoggerCallback` interface and will be removed in Ray 2.7.\n",
      "  self._loggers.append(cls(self.config, self.logdir, self.trial))\n",
      "2025-02-17 01:43:27,148\tINFO trainable.py:161 -- Trainable.setup took 20.216 seconds. If your trainable is slow to initialize, consider setting reuse_actors=True to reduce actor creation overheads.\n"
     ]
    },
    {
     "name": "stdout",
     "output_type": "stream",
     "text": [
      "Current working directory: C:\\Users\\micha\\Documents\\Przegrane\\Delft\\masters\\Thesis\\mine\n",
      "Trying to access: C:\\Users\\micha\\Documents\\Przegrane\\Delft\\masters\\Thesis\\mine\\src\\config\\battery_config,json\n",
      "Missing timestamps for household 27:\n",
      "Empty DataFrame\n",
      "Columns: [id, grid, solar, solar2, usage, total_solar, pv_prediction]\n",
      "Index: []\n",
      "Length of household 27 timeseries: 16208\n",
      "Current working directory: C:\\Users\\micha\\Documents\\Przegrane\\Delft\\masters\\Thesis\\mine\n",
      "Trying to access: C:\\Users\\micha\\Documents\\Przegrane\\Delft\\masters\\Thesis\\mine\\src\\config\\battery_config,json\n",
      "Missing timestamps for household 27:\n",
      "Empty DataFrame\n",
      "Columns: [id, grid, solar, solar2, usage, total_solar, pv_prediction]\n",
      "Index: []\n",
      "Length of household 27 timeseries: 16208\n",
      "Current working directory: C:\\Users\\micha\\Documents\\Przegrane\\Delft\\masters\\Thesis\\mine\n",
      "Trying to access: C:\\Users\\micha\\Documents\\Przegrane\\Delft\\masters\\Thesis\\mine\\src\\config\\battery_config,json\n",
      "Missing timestamps for household 27:\n",
      "Empty DataFrame\n",
      "Columns: [id, grid, solar, solar2, usage, total_solar, pv_prediction]\n",
      "Index: []\n",
      "Length of household 27 timeseries: 16208\n",
      "Current working directory: C:\\Users\\micha\\Documents\\Przegrane\\Delft\\masters\\Thesis\\mine\n",
      "Trying to access: C:\\Users\\micha\\Documents\\Przegrane\\Delft\\masters\\Thesis\\mine\\src\\config\\battery_config,json\n",
      "dict_keys(['27_0', '27_1', '27_2'])\n",
      "Current working directory: C:\\Users\\micha\\Documents\\Przegrane\\Delft\\masters\\Thesis\\mine\n",
      "Trying to access: C:\\Users\\micha\\Documents\\Przegrane\\Delft\\masters\\Thesis\\mine\\src\\config\\battery_config,json\n",
      "Missing timestamps for household 27:\n",
      "Empty DataFrame\n",
      "Columns: [id, grid, solar, solar2, usage, total_solar, pv_prediction]\n",
      "Index: []\n",
      "Length of household 27 timeseries: 1424\n",
      "Current working directory: C:\\Users\\micha\\Documents\\Przegrane\\Delft\\masters\\Thesis\\mine\n",
      "Trying to access: C:\\Users\\micha\\Documents\\Przegrane\\Delft\\masters\\Thesis\\mine\\src\\config\\battery_config,json\n",
      "Missing timestamps for household 27:\n",
      "Empty DataFrame\n",
      "Columns: [id, grid, solar, solar2, usage, total_solar, pv_prediction]\n",
      "Index: []\n",
      "Length of household 27 timeseries: 1424\n",
      "Current working directory: C:\\Users\\micha\\Documents\\Przegrane\\Delft\\masters\\Thesis\\mine\n",
      "Trying to access: C:\\Users\\micha\\Documents\\Przegrane\\Delft\\masters\\Thesis\\mine\\src\\config\\battery_config,json\n",
      "Missing timestamps for household 27:\n",
      "Empty DataFrame\n",
      "Columns: [id, grid, solar, solar2, usage, total_solar, pv_prediction]\n",
      "Index: []\n",
      "Length of household 27 timeseries: 1424\n",
      "Current working directory: C:\\Users\\micha\\Documents\\Przegrane\\Delft\\masters\\Thesis\\mine\n",
      "Trying to access: C:\\Users\\micha\\Documents\\Przegrane\\Delft\\masters\\Thesis\\mine\\src\\config\\battery_config,json\n",
      "dict_keys(['27_0', '27_1', '27_2'])\n",
      "Baseline test reward per timestep: -15.489836376404496\n"
     ]
    },
    {
     "name": "stderr",
     "output_type": "stream",
     "text": [
      "2025-02-17 01:43:55,114\tWARNING deprecation.py:50 -- DeprecationWarning: `_get_slice_indices` has been deprecated. This will raise an error in the future!\n"
     ]
    },
    {
     "name": "stdout",
     "output_type": "stream",
     "text": [
      "Training rewards per household: {}\n",
      "Iter: 0; avg. training reward=nan avg. reward per timestep=None\n",
      "Training rewards:  [None]\n",
      "Training rewards stds:  [nan]\n",
      "Evaluation rewards:  [None]\n",
      "Evaluation rewards stds:  [None]\n"
     ]
    },
    {
     "name": "stderr",
     "output_type": "stream",
     "text": [
      "C:\\Users\\micha\\miniconda3\\envs\\pyecom\\lib\\site-packages\\numpy\\core\\_methods.py:206: RuntimeWarning: Degrees of freedom <= 0 for slice\n",
      "  ret = _var(a, axis=axis, dtype=dtype, out=out, ddof=ddof,\n",
      "C:\\Users\\micha\\miniconda3\\envs\\pyecom\\lib\\site-packages\\numpy\\core\\_methods.py:163: RuntimeWarning: invalid value encountered in divide\n",
      "  arrmean = um.true_divide(arrmean, div, out=arrmean,\n",
      "C:\\Users\\micha\\miniconda3\\envs\\pyecom\\lib\\site-packages\\numpy\\core\\_methods.py:198: RuntimeWarning: invalid value encountered in scalar divide\n",
      "  ret = ret.dtype.type(ret / rcount)\n"
     ]
    },
    {
     "data": {
      "text/plain": "<Figure size 1000x600 with 1 Axes>",
      "image/png": "[encoded data removed]"
     },
     "metadata": {},
     "output_type": "display_data"
    },
    {
     "name": "stdout",
     "output_type": "stream",
     "text": [
      "Training rewards per household: {}\n",
      "Iter: 1; avg. training reward=nan avg. reward per timestep=None\n",
      "Training rewards:  [None, None]\n",
      "Training rewards stds:  [nan, nan]\n",
      "Evaluation rewards:  [None]\n",
      "Evaluation rewards stds:  [None]\n"
     ]
    },
    {
     "data": {
      "text/plain": "<Figure size 640x480 with 0 Axes>"
     },
     "metadata": {},
     "output_type": "display_data"
    },
    {
     "ename": "KeyboardInterrupt",
     "evalue": "",
     "output_type": "error",
     "traceback": [
      "\u001B[1;31m---------------------------------------------------------------------------\u001B[0m",
      "\u001B[1;31mKeyboardInterrupt\u001B[0m                         Traceback (most recent call last)",
      "Cell \u001B[1;32mIn[7], line 18\u001B[0m\n\u001B[0;32m      1\u001B[0m common_reward_factor \u001B[38;5;241m=\u001B[39m \u001B[38;5;241m1.0\u001B[39m\n\u001B[0;32m      2\u001B[0m ssd_mitigation \u001B[38;5;241m=\u001B[39m ExperimentRunner(\n\u001B[0;32m      3\u001B[0m         [\u001B[38;5;241m27\u001B[39m, \u001B[38;5;241m27\u001B[39m, \u001B[38;5;241m27\u001B[39m],\n\u001B[0;32m      4\u001B[0m         results_dir\u001B[38;5;241m=\u001B[39m\u001B[38;5;124m\"\u001B[39m\u001B[38;5;124mdilemma_runs\u001B[39m\u001B[38;5;124m\"\u001B[39m,\n\u001B[1;32m   (...)\u001B[0m\n\u001B[0;32m     15\u001B[0m         common_battery_type\u001B[38;5;241m=\u001B[39m\u001B[38;5;124m\"\u001B[39m\u001B[38;5;124mdefault\u001B[39m\u001B[38;5;124m\"\u001B[39m\n\u001B[0;32m     16\u001B[0m     )\n\u001B[1;32m---> 18\u001B[0m \u001B[43mssd_mitigation\u001B[49m\u001B[38;5;241;43m.\u001B[39;49m\u001B[43mrun_multiple_training_runs\u001B[49m\u001B[43m(\u001B[49m\u001B[43m{\u001B[49m\u001B[38;5;124;43m'\u001B[39;49m\u001B[38;5;124;43mfew_months\u001B[39;49m\u001B[38;5;124;43m'\u001B[39;49m\u001B[43m:\u001B[49m\u001B[43m \u001B[49m\u001B[38;5;241;43m10\u001B[39;49m\u001B[43m}\u001B[49m\u001B[43m,\u001B[49m\u001B[43m \u001B[49m\u001B[43mget_experiment_name\u001B[49m\u001B[43m(\u001B[49m\u001B[43mcommon_reward_factor\u001B[49m\u001B[43m)\u001B[49m\u001B[43m)\u001B[49m\n",
      "File \u001B[1;32m~\\Documents\\Przegrane\\Delft\\masters\\Thesis\\mine\\src\\experiments\\experiment_runner.py:432\u001B[0m, in \u001B[0;36mExperimentRunner.run_multiple_training_runs\u001B[1;34m(self, scenarios, run_name)\u001B[0m\n\u001B[0;32m    430\u001B[0m     scenarios \u001B[38;5;241m=\u001B[39m [scenario \u001B[38;5;28;01mfor\u001B[39;00m scenario, count \u001B[38;5;129;01min\u001B[39;00m scenarios\u001B[38;5;241m.\u001B[39mitems() \u001B[38;5;28;01mfor\u001B[39;00m _ \u001B[38;5;129;01min\u001B[39;00m \u001B[38;5;28mrange\u001B[39m(count)]\n\u001B[0;32m    431\u001B[0m \u001B[38;5;28;01mfor\u001B[39;00m scenario \u001B[38;5;129;01min\u001B[39;00m scenarios:\n\u001B[1;32m--> 432\u001B[0m     results\u001B[38;5;241m.\u001B[39mappend(\u001B[38;5;28;43mself\u001B[39;49m\u001B[38;5;241;43m.\u001B[39;49m\u001B[43mrun_single_experiment\u001B[49m\u001B[43m(\u001B[49m\u001B[43mscenario\u001B[49m\u001B[43m,\u001B[49m\u001B[43m \u001B[49m\u001B[43mrun_name\u001B[49m\u001B[43m)\u001B[49m)\n\u001B[0;32m    433\u001B[0m \u001B[38;5;28;01mreturn\u001B[39;00m results\n",
      "File \u001B[1;32m~\\Documents\\Przegrane\\Delft\\masters\\Thesis\\mine\\src\\experiments\\experiment_runner.py:314\u001B[0m, in \u001B[0;36mExperimentRunner.run_single_experiment\u001B[1;34m(self, scenario, run_name)\u001B[0m\n\u001B[0;32m    311\u001B[0m os\u001B[38;5;241m.\u001B[39mmakedirs(os\u001B[38;5;241m.\u001B[39mpath\u001B[38;5;241m.\u001B[39mjoin(train_run_dir, \u001B[38;5;28mstr\u001B[39m(training_iteration)), exist_ok\u001B[38;5;241m=\u001B[39m\u001B[38;5;28;01mTrue\u001B[39;00m)\n\u001B[0;32m    312\u001B[0m os\u001B[38;5;241m.\u001B[39mmakedirs(os\u001B[38;5;241m.\u001B[39mpath\u001B[38;5;241m.\u001B[39mjoin(test_run_dir, \u001B[38;5;28mstr\u001B[39m(training_iteration)), exist_ok\u001B[38;5;241m=\u001B[39m\u001B[38;5;28;01mTrue\u001B[39;00m)\n\u001B[1;32m--> 314\u001B[0m results \u001B[38;5;241m=\u001B[39m \u001B[43malgo\u001B[49m\u001B[38;5;241;43m.\u001B[39;49m\u001B[43mtrain\u001B[49m\u001B[43m(\u001B[49m\u001B[43m)\u001B[49m\n\u001B[0;32m    315\u001B[0m training_reward \u001B[38;5;241m=\u001B[39m results[\u001B[38;5;124m'\u001B[39m\u001B[38;5;124menv_runners\u001B[39m\u001B[38;5;124m'\u001B[39m][\u001B[38;5;124m'\u001B[39m\u001B[38;5;124mepisode_reward_mean\u001B[39m\u001B[38;5;124m'\u001B[39m] \u001B[38;5;241m/\u001B[39m run_env\u001B[38;5;241m.\u001B[39mnum_households\n\u001B[0;32m    316\u001B[0m training_reward \u001B[38;5;241m*\u001B[39m\u001B[38;5;241m=\u001B[39m \u001B[38;5;28mself\u001B[39m\u001B[38;5;241m.\u001B[39mnum_envs_per_worker  \u001B[38;5;66;03m# Adjust for rollout scaling\u001B[39;00m\n",
      "File \u001B[1;32m~\\miniconda3\\envs\\pyecom\\lib\\site-packages\\ray\\tune\\trainable\\trainable.py:328\u001B[0m, in \u001B[0;36mTrainable.train\u001B[1;34m(self)\u001B[0m\n\u001B[0;32m    326\u001B[0m start \u001B[38;5;241m=\u001B[39m time\u001B[38;5;241m.\u001B[39mtime()\n\u001B[0;32m    327\u001B[0m \u001B[38;5;28;01mtry\u001B[39;00m:\n\u001B[1;32m--> 328\u001B[0m     result \u001B[38;5;241m=\u001B[39m \u001B[38;5;28;43mself\u001B[39;49m\u001B[38;5;241;43m.\u001B[39;49m\u001B[43mstep\u001B[49m\u001B[43m(\u001B[49m\u001B[43m)\u001B[49m\n\u001B[0;32m    329\u001B[0m \u001B[38;5;28;01mexcept\u001B[39;00m \u001B[38;5;167;01mException\u001B[39;00m \u001B[38;5;28;01mas\u001B[39;00m e:\n\u001B[0;32m    330\u001B[0m     skipped \u001B[38;5;241m=\u001B[39m skip_exceptions(e)\n",
      "File \u001B[1;32m~\\miniconda3\\envs\\pyecom\\lib\\site-packages\\ray\\rllib\\algorithms\\algorithm.py:949\u001B[0m, in \u001B[0;36mAlgorithm.step\u001B[1;34m(self)\u001B[0m\n\u001B[0;32m    939\u001B[0m     (\n\u001B[0;32m    940\u001B[0m         train_results,\n\u001B[0;32m    941\u001B[0m         eval_results,\n\u001B[0;32m    942\u001B[0m         train_iter_ctx,\n\u001B[0;32m    943\u001B[0m     ) \u001B[38;5;241m=\u001B[39m \u001B[38;5;28mself\u001B[39m\u001B[38;5;241m.\u001B[39m_run_one_training_iteration_and_evaluation_in_parallel()\n\u001B[0;32m    945\u001B[0m \u001B[38;5;66;03m# - No evaluation necessary, just run the next training iteration.\u001B[39;00m\n\u001B[0;32m    946\u001B[0m \u001B[38;5;66;03m# - We have to evaluate in this training iteration, but no parallelism ->\u001B[39;00m\n\u001B[0;32m    947\u001B[0m \u001B[38;5;66;03m#   evaluate after the training iteration is entirely done.\u001B[39;00m\n\u001B[0;32m    948\u001B[0m \u001B[38;5;28;01melse\u001B[39;00m:\n\u001B[1;32m--> 949\u001B[0m     train_results, train_iter_ctx \u001B[38;5;241m=\u001B[39m \u001B[38;5;28;43mself\u001B[39;49m\u001B[38;5;241;43m.\u001B[39;49m\u001B[43m_run_one_training_iteration\u001B[49m\u001B[43m(\u001B[49m\u001B[43m)\u001B[49m\n\u001B[0;32m    951\u001B[0m \u001B[38;5;66;03m# Sequential: Train (already done above), then evaluate.\u001B[39;00m\n\u001B[0;32m    952\u001B[0m \u001B[38;5;28;01mif\u001B[39;00m evaluate_this_iter \u001B[38;5;129;01mand\u001B[39;00m \u001B[38;5;129;01mnot\u001B[39;00m \u001B[38;5;28mself\u001B[39m\u001B[38;5;241m.\u001B[39mconfig\u001B[38;5;241m.\u001B[39mevaluation_parallel_to_training:\n",
      "File \u001B[1;32m~\\miniconda3\\envs\\pyecom\\lib\\site-packages\\ray\\rllib\\algorithms\\algorithm.py:3598\u001B[0m, in \u001B[0;36mAlgorithm._run_one_training_iteration\u001B[1;34m(self)\u001B[0m\n\u001B[0;32m   3594\u001B[0m \u001B[38;5;66;03m# Try to train one step.\u001B[39;00m\n\u001B[0;32m   3595\u001B[0m \u001B[38;5;28;01mwith\u001B[39;00m \u001B[38;5;28mself\u001B[39m\u001B[38;5;241m.\u001B[39m_timers[TRAINING_STEP_TIMER]:\n\u001B[0;32m   3596\u001B[0m     \u001B[38;5;66;03m# TODO (sven): Should we reduce the different\u001B[39;00m\n\u001B[0;32m   3597\u001B[0m     \u001B[38;5;66;03m#  `training_step_results` over time with MetricsLogger.\u001B[39;00m\n\u001B[1;32m-> 3598\u001B[0m     training_step_results \u001B[38;5;241m=\u001B[39m \u001B[38;5;28;43mself\u001B[39;49m\u001B[38;5;241;43m.\u001B[39;49m\u001B[43mtraining_step\u001B[49m\u001B[43m(\u001B[49m\u001B[43m)\u001B[49m\n\u001B[0;32m   3600\u001B[0m \u001B[38;5;28;01mif\u001B[39;00m training_step_results:\n\u001B[0;32m   3601\u001B[0m     results \u001B[38;5;241m=\u001B[39m training_step_results\n",
      "File \u001B[1;32m~\\miniconda3\\envs\\pyecom\\lib\\site-packages\\ray\\rllib\\algorithms\\ppo\\ppo.py:442\u001B[0m, in \u001B[0;36mPPO.training_step\u001B[1;34m(self)\u001B[0m\n\u001B[0;32m    438\u001B[0m     \u001B[38;5;28;01mreturn\u001B[39;00m \u001B[38;5;28mself\u001B[39m\u001B[38;5;241m.\u001B[39m_training_step_new_api_stack()\n\u001B[0;32m    439\u001B[0m \u001B[38;5;66;03m# Old and hybrid API stacks (Policy, RolloutWorker, Connector, maybe RLModule,\u001B[39;00m\n\u001B[0;32m    440\u001B[0m \u001B[38;5;66;03m# maybe Learner).\u001B[39;00m\n\u001B[0;32m    441\u001B[0m \u001B[38;5;28;01melse\u001B[39;00m:\n\u001B[1;32m--> 442\u001B[0m     \u001B[38;5;28;01mreturn\u001B[39;00m \u001B[38;5;28;43mself\u001B[39;49m\u001B[38;5;241;43m.\u001B[39;49m\u001B[43m_training_step_old_and_hybrid_api_stacks\u001B[49m\u001B[43m(\u001B[49m\u001B[43m)\u001B[49m\n",
      "File \u001B[1;32m~\\miniconda3\\envs\\pyecom\\lib\\site-packages\\ray\\rllib\\algorithms\\ppo\\ppo.py:582\u001B[0m, in \u001B[0;36mPPO._training_step_old_and_hybrid_api_stacks\u001B[1;34m(self)\u001B[0m\n\u001B[0;32m    575\u001B[0m     train_results \u001B[38;5;241m=\u001B[39m \u001B[38;5;28mself\u001B[39m\u001B[38;5;241m.\u001B[39mlearner_group\u001B[38;5;241m.\u001B[39mupdate_from_batch(\n\u001B[0;32m    576\u001B[0m         batch\u001B[38;5;241m=\u001B[39mtrain_batch,\n\u001B[0;32m    577\u001B[0m         minibatch_size\u001B[38;5;241m=\u001B[39mmini_batch_size_per_learner,\n\u001B[0;32m    578\u001B[0m         num_iters\u001B[38;5;241m=\u001B[39m\u001B[38;5;28mself\u001B[39m\u001B[38;5;241m.\u001B[39mconfig\u001B[38;5;241m.\u001B[39mnum_sgd_iter,\n\u001B[0;32m    579\u001B[0m     )\n\u001B[0;32m    581\u001B[0m \u001B[38;5;28;01melif\u001B[39;00m \u001B[38;5;28mself\u001B[39m\u001B[38;5;241m.\u001B[39mconfig\u001B[38;5;241m.\u001B[39msimple_optimizer:\n\u001B[1;32m--> 582\u001B[0m     train_results \u001B[38;5;241m=\u001B[39m \u001B[43mtrain_one_step\u001B[49m\u001B[43m(\u001B[49m\u001B[38;5;28;43mself\u001B[39;49m\u001B[43m,\u001B[49m\u001B[43m \u001B[49m\u001B[43mtrain_batch\u001B[49m\u001B[43m)\u001B[49m\n\u001B[0;32m    583\u001B[0m \u001B[38;5;28;01melse\u001B[39;00m:\n\u001B[0;32m    584\u001B[0m     train_results \u001B[38;5;241m=\u001B[39m multi_gpu_train_one_step(\u001B[38;5;28mself\u001B[39m, train_batch)\n",
      "File \u001B[1;32m~\\miniconda3\\envs\\pyecom\\lib\\site-packages\\ray\\rllib\\execution\\train_ops.py:56\u001B[0m, in \u001B[0;36mtrain_one_step\u001B[1;34m(algorithm, train_batch, policies_to_train)\u001B[0m\n\u001B[0;32m     52\u001B[0m \u001B[38;5;28;01mwith\u001B[39;00m learn_timer:\n\u001B[0;32m     53\u001B[0m     \u001B[38;5;66;03m# Subsample minibatches (size=`sgd_minibatch_size`) from the\u001B[39;00m\n\u001B[0;32m     54\u001B[0m     \u001B[38;5;66;03m# train batch and loop through train batch `num_sgd_iter` times.\u001B[39;00m\n\u001B[0;32m     55\u001B[0m     \u001B[38;5;28;01mif\u001B[39;00m num_sgd_iter \u001B[38;5;241m>\u001B[39m \u001B[38;5;241m1\u001B[39m \u001B[38;5;129;01mor\u001B[39;00m sgd_minibatch_size \u001B[38;5;241m>\u001B[39m \u001B[38;5;241m0\u001B[39m:\n\u001B[1;32m---> 56\u001B[0m         info \u001B[38;5;241m=\u001B[39m \u001B[43mdo_minibatch_sgd\u001B[49m\u001B[43m(\u001B[49m\n\u001B[0;32m     57\u001B[0m \u001B[43m            \u001B[49m\u001B[43mtrain_batch\u001B[49m\u001B[43m,\u001B[49m\n\u001B[0;32m     58\u001B[0m \u001B[43m            \u001B[49m\u001B[43m{\u001B[49m\n\u001B[0;32m     59\u001B[0m \u001B[43m                \u001B[49m\u001B[43mpid\u001B[49m\u001B[43m:\u001B[49m\u001B[43m \u001B[49m\u001B[43mlocal_worker\u001B[49m\u001B[38;5;241;43m.\u001B[39;49m\u001B[43mget_policy\u001B[49m\u001B[43m(\u001B[49m\u001B[43mpid\u001B[49m\u001B[43m)\u001B[49m\n\u001B[0;32m     60\u001B[0m \u001B[43m                \u001B[49m\u001B[38;5;28;43;01mfor\u001B[39;49;00m\u001B[43m \u001B[49m\u001B[43mpid\u001B[49m\u001B[43m \u001B[49m\u001B[38;5;129;43;01min\u001B[39;49;00m\u001B[43m \u001B[49m\u001B[43mpolicies_to_train\u001B[49m\n\u001B[0;32m     61\u001B[0m \u001B[43m                \u001B[49m\u001B[38;5;129;43;01mor\u001B[39;49;00m\u001B[43m \u001B[49m\u001B[43mlocal_worker\u001B[49m\u001B[38;5;241;43m.\u001B[39;49m\u001B[43mget_policies_to_train\u001B[49m\u001B[43m(\u001B[49m\u001B[43mtrain_batch\u001B[49m\u001B[43m)\u001B[49m\n\u001B[0;32m     62\u001B[0m \u001B[43m            \u001B[49m\u001B[43m}\u001B[49m\u001B[43m,\u001B[49m\n\u001B[0;32m     63\u001B[0m \u001B[43m            \u001B[49m\u001B[43mlocal_worker\u001B[49m\u001B[43m,\u001B[49m\n\u001B[0;32m     64\u001B[0m \u001B[43m            \u001B[49m\u001B[43mnum_sgd_iter\u001B[49m\u001B[43m,\u001B[49m\n\u001B[0;32m     65\u001B[0m \u001B[43m            \u001B[49m\u001B[43msgd_minibatch_size\u001B[49m\u001B[43m,\u001B[49m\n\u001B[0;32m     66\u001B[0m \u001B[43m            \u001B[49m\u001B[43m[\u001B[49m\u001B[43m]\u001B[49m\u001B[43m,\u001B[49m\n\u001B[0;32m     67\u001B[0m \u001B[43m        \u001B[49m\u001B[43m)\u001B[49m\n\u001B[0;32m     68\u001B[0m     \u001B[38;5;66;03m# Single update step using train batch.\u001B[39;00m\n\u001B[0;32m     69\u001B[0m     \u001B[38;5;28;01melse\u001B[39;00m:\n\u001B[0;32m     70\u001B[0m         info \u001B[38;5;241m=\u001B[39m local_worker\u001B[38;5;241m.\u001B[39mlearn_on_batch(train_batch)\n",
      "File \u001B[1;32m~\\miniconda3\\envs\\pyecom\\lib\\site-packages\\ray\\rllib\\utils\\sgd.py:129\u001B[0m, in \u001B[0;36mdo_minibatch_sgd\u001B[1;34m(samples, policies, local_worker, num_sgd_iter, sgd_minibatch_size, standardize_fields)\u001B[0m\n\u001B[0;32m    126\u001B[0m     \u001B[38;5;28;01mfor\u001B[39;00m i \u001B[38;5;129;01min\u001B[39;00m \u001B[38;5;28mrange\u001B[39m(num_sgd_iter):\n\u001B[0;32m    127\u001B[0m         \u001B[38;5;28;01mfor\u001B[39;00m minibatch \u001B[38;5;129;01min\u001B[39;00m minibatches(batch, sgd_minibatch_size):\n\u001B[0;32m    128\u001B[0m             results \u001B[38;5;241m=\u001B[39m (\n\u001B[1;32m--> 129\u001B[0m                 \u001B[43mlocal_worker\u001B[49m\u001B[38;5;241;43m.\u001B[39;49m\u001B[43mlearn_on_batch\u001B[49m\u001B[43m(\u001B[49m\n\u001B[0;32m    130\u001B[0m \u001B[43m                    \u001B[49m\u001B[43mMultiAgentBatch\u001B[49m\u001B[43m(\u001B[49m\u001B[43m{\u001B[49m\u001B[43mpolicy_id\u001B[49m\u001B[43m:\u001B[49m\u001B[43m \u001B[49m\u001B[43mminibatch\u001B[49m\u001B[43m}\u001B[49m\u001B[43m,\u001B[49m\u001B[43m \u001B[49m\u001B[43mminibatch\u001B[49m\u001B[38;5;241;43m.\u001B[39;49m\u001B[43mcount\u001B[49m\u001B[43m)\u001B[49m\n\u001B[0;32m    131\u001B[0m \u001B[43m                \u001B[49m\u001B[43m)\u001B[49m\n\u001B[0;32m    132\u001B[0m             )[policy_id]\n\u001B[0;32m    133\u001B[0m             learner_info_builder\u001B[38;5;241m.\u001B[39madd_learn_on_batch_results(results, policy_id)\n\u001B[0;32m    135\u001B[0m learner_info \u001B[38;5;241m=\u001B[39m learner_info_builder\u001B[38;5;241m.\u001B[39mfinalize()\n",
      "File \u001B[1;32m~\\miniconda3\\envs\\pyecom\\lib\\site-packages\\ray\\rllib\\evaluation\\rollout_worker.py:822\u001B[0m, in \u001B[0;36mRolloutWorker.learn_on_batch\u001B[1;34m(self, samples)\u001B[0m\n\u001B[0;32m    820\u001B[0m             to_fetch[pid] \u001B[38;5;241m=\u001B[39m policy\u001B[38;5;241m.\u001B[39m_build_learn_on_batch(builders[pid], batch)\n\u001B[0;32m    821\u001B[0m         \u001B[38;5;28;01melse\u001B[39;00m:\n\u001B[1;32m--> 822\u001B[0m             info_out[pid] \u001B[38;5;241m=\u001B[39m \u001B[43mpolicy\u001B[49m\u001B[38;5;241;43m.\u001B[39;49m\u001B[43mlearn_on_batch\u001B[49m\u001B[43m(\u001B[49m\u001B[43mbatch\u001B[49m\u001B[43m)\u001B[49m\n\u001B[0;32m    824\u001B[0m     info_out\u001B[38;5;241m.\u001B[39mupdate({pid: builders[pid]\u001B[38;5;241m.\u001B[39mget(v) \u001B[38;5;28;01mfor\u001B[39;00m pid, v \u001B[38;5;129;01min\u001B[39;00m to_fetch\u001B[38;5;241m.\u001B[39mitems()})\n\u001B[0;32m    825\u001B[0m \u001B[38;5;28;01melse\u001B[39;00m:\n",
      "File \u001B[1;32m~\\miniconda3\\envs\\pyecom\\lib\\site-packages\\ray\\rllib\\utils\\threading.py:24\u001B[0m, in \u001B[0;36mwith_lock.<locals>.wrapper\u001B[1;34m(self, *a, **k)\u001B[0m\n\u001B[0;32m     22\u001B[0m \u001B[38;5;28;01mtry\u001B[39;00m:\n\u001B[0;32m     23\u001B[0m     \u001B[38;5;28;01mwith\u001B[39;00m \u001B[38;5;28mself\u001B[39m\u001B[38;5;241m.\u001B[39m_lock:\n\u001B[1;32m---> 24\u001B[0m         \u001B[38;5;28;01mreturn\u001B[39;00m func(\u001B[38;5;28mself\u001B[39m, \u001B[38;5;241m*\u001B[39ma, \u001B[38;5;241m*\u001B[39m\u001B[38;5;241m*\u001B[39mk)\n\u001B[0;32m     25\u001B[0m \u001B[38;5;28;01mexcept\u001B[39;00m \u001B[38;5;167;01mAttributeError\u001B[39;00m \u001B[38;5;28;01mas\u001B[39;00m e:\n\u001B[0;32m     26\u001B[0m     \u001B[38;5;28;01mif\u001B[39;00m \u001B[38;5;124m\"\u001B[39m\u001B[38;5;124mhas no attribute \u001B[39m\u001B[38;5;124m'\u001B[39m\u001B[38;5;124m_lock\u001B[39m\u001B[38;5;124m'\u001B[39m\u001B[38;5;124m\"\u001B[39m \u001B[38;5;129;01min\u001B[39;00m e\u001B[38;5;241m.\u001B[39margs[\u001B[38;5;241m0\u001B[39m]:\n",
      "File \u001B[1;32m~\\miniconda3\\envs\\pyecom\\lib\\site-packages\\ray\\rllib\\policy\\torch_policy_v2.py:736\u001B[0m, in \u001B[0;36mTorchPolicyV2.learn_on_batch\u001B[1;34m(self, postprocessed_batch)\u001B[0m\n\u001B[0;32m    730\u001B[0m \u001B[38;5;28mself\u001B[39m\u001B[38;5;241m.\u001B[39mcallbacks\u001B[38;5;241m.\u001B[39mon_learn_on_batch(\n\u001B[0;32m    731\u001B[0m     policy\u001B[38;5;241m=\u001B[39m\u001B[38;5;28mself\u001B[39m, train_batch\u001B[38;5;241m=\u001B[39mpostprocessed_batch, result\u001B[38;5;241m=\u001B[39mlearn_stats\n\u001B[0;32m    732\u001B[0m )\n\u001B[0;32m    734\u001B[0m \u001B[38;5;66;03m# Compute gradients (will calculate all losses and `backward()`\u001B[39;00m\n\u001B[0;32m    735\u001B[0m \u001B[38;5;66;03m# them to get the grads).\u001B[39;00m\n\u001B[1;32m--> 736\u001B[0m grads, fetches \u001B[38;5;241m=\u001B[39m \u001B[38;5;28;43mself\u001B[39;49m\u001B[38;5;241;43m.\u001B[39;49m\u001B[43mcompute_gradients\u001B[49m\u001B[43m(\u001B[49m\u001B[43mpostprocessed_batch\u001B[49m\u001B[43m)\u001B[49m\n\u001B[0;32m    738\u001B[0m \u001B[38;5;66;03m# Step the optimizers.\u001B[39;00m\n\u001B[0;32m    739\u001B[0m \u001B[38;5;28mself\u001B[39m\u001B[38;5;241m.\u001B[39mapply_gradients(_directStepOptimizerSingleton)\n",
      "File \u001B[1;32m~\\miniconda3\\envs\\pyecom\\lib\\site-packages\\ray\\rllib\\utils\\threading.py:24\u001B[0m, in \u001B[0;36mwith_lock.<locals>.wrapper\u001B[1;34m(self, *a, **k)\u001B[0m\n\u001B[0;32m     22\u001B[0m \u001B[38;5;28;01mtry\u001B[39;00m:\n\u001B[0;32m     23\u001B[0m     \u001B[38;5;28;01mwith\u001B[39;00m \u001B[38;5;28mself\u001B[39m\u001B[38;5;241m.\u001B[39m_lock:\n\u001B[1;32m---> 24\u001B[0m         \u001B[38;5;28;01mreturn\u001B[39;00m func(\u001B[38;5;28mself\u001B[39m, \u001B[38;5;241m*\u001B[39ma, \u001B[38;5;241m*\u001B[39m\u001B[38;5;241m*\u001B[39mk)\n\u001B[0;32m     25\u001B[0m \u001B[38;5;28;01mexcept\u001B[39;00m \u001B[38;5;167;01mAttributeError\u001B[39;00m \u001B[38;5;28;01mas\u001B[39;00m e:\n\u001B[0;32m     26\u001B[0m     \u001B[38;5;28;01mif\u001B[39;00m \u001B[38;5;124m\"\u001B[39m\u001B[38;5;124mhas no attribute \u001B[39m\u001B[38;5;124m'\u001B[39m\u001B[38;5;124m_lock\u001B[39m\u001B[38;5;124m'\u001B[39m\u001B[38;5;124m\"\u001B[39m \u001B[38;5;129;01min\u001B[39;00m e\u001B[38;5;241m.\u001B[39margs[\u001B[38;5;241m0\u001B[39m]:\n",
      "File \u001B[1;32m~\\miniconda3\\envs\\pyecom\\lib\\site-packages\\ray\\rllib\\policy\\torch_policy_v2.py:954\u001B[0m, in \u001B[0;36mTorchPolicyV2.compute_gradients\u001B[1;34m(self, postprocessed_batch)\u001B[0m\n\u001B[0;32m    951\u001B[0m \u001B[38;5;28mself\u001B[39m\u001B[38;5;241m.\u001B[39m_lazy_tensor_dict(postprocessed_batch, device\u001B[38;5;241m=\u001B[39m\u001B[38;5;28mself\u001B[39m\u001B[38;5;241m.\u001B[39mdevices[\u001B[38;5;241m0\u001B[39m])\n\u001B[0;32m    953\u001B[0m \u001B[38;5;66;03m# Do the (maybe parallelized) gradient calculation step.\u001B[39;00m\n\u001B[1;32m--> 954\u001B[0m tower_outputs \u001B[38;5;241m=\u001B[39m \u001B[38;5;28;43mself\u001B[39;49m\u001B[38;5;241;43m.\u001B[39;49m\u001B[43m_multi_gpu_parallel_grad_calc\u001B[49m\u001B[43m(\u001B[49m\u001B[43m[\u001B[49m\u001B[43mpostprocessed_batch\u001B[49m\u001B[43m]\u001B[49m\u001B[43m)\u001B[49m\n\u001B[0;32m    956\u001B[0m all_grads, grad_info \u001B[38;5;241m=\u001B[39m tower_outputs[\u001B[38;5;241m0\u001B[39m]\n\u001B[0;32m    958\u001B[0m grad_info[\u001B[38;5;124m\"\u001B[39m\u001B[38;5;124mallreduce_latency\u001B[39m\u001B[38;5;124m\"\u001B[39m] \u001B[38;5;241m/\u001B[39m\u001B[38;5;241m=\u001B[39m \u001B[38;5;28mlen\u001B[39m(\u001B[38;5;28mself\u001B[39m\u001B[38;5;241m.\u001B[39m_optimizers)\n",
      "File \u001B[1;32m~\\miniconda3\\envs\\pyecom\\lib\\site-packages\\ray\\rllib\\policy\\torch_policy_v2.py:1450\u001B[0m, in \u001B[0;36mTorchPolicyV2._multi_gpu_parallel_grad_calc\u001B[1;34m(self, sample_batches)\u001B[0m\n\u001B[0;32m   1446\u001B[0m \u001B[38;5;28;01mif\u001B[39;00m \u001B[38;5;28mlen\u001B[39m(\u001B[38;5;28mself\u001B[39m\u001B[38;5;241m.\u001B[39mdevices) \u001B[38;5;241m==\u001B[39m \u001B[38;5;241m1\u001B[39m \u001B[38;5;129;01mor\u001B[39;00m \u001B[38;5;28mself\u001B[39m\u001B[38;5;241m.\u001B[39mconfig[\u001B[38;5;124m\"\u001B[39m\u001B[38;5;124m_fake_gpus\u001B[39m\u001B[38;5;124m\"\u001B[39m]:\n\u001B[0;32m   1447\u001B[0m     \u001B[38;5;28;01mfor\u001B[39;00m shard_idx, (model, sample_batch, device) \u001B[38;5;129;01min\u001B[39;00m \u001B[38;5;28menumerate\u001B[39m(\n\u001B[0;32m   1448\u001B[0m         \u001B[38;5;28mzip\u001B[39m(\u001B[38;5;28mself\u001B[39m\u001B[38;5;241m.\u001B[39mmodel_gpu_towers, sample_batches, \u001B[38;5;28mself\u001B[39m\u001B[38;5;241m.\u001B[39mdevices)\n\u001B[0;32m   1449\u001B[0m     ):\n\u001B[1;32m-> 1450\u001B[0m         \u001B[43m_worker\u001B[49m\u001B[43m(\u001B[49m\u001B[43mshard_idx\u001B[49m\u001B[43m,\u001B[49m\u001B[43m \u001B[49m\u001B[43mmodel\u001B[49m\u001B[43m,\u001B[49m\u001B[43m \u001B[49m\u001B[43msample_batch\u001B[49m\u001B[43m,\u001B[49m\u001B[43m \u001B[49m\u001B[43mdevice\u001B[49m\u001B[43m)\u001B[49m\n\u001B[0;32m   1451\u001B[0m         \u001B[38;5;66;03m# Raise errors right away for better debugging.\u001B[39;00m\n\u001B[0;32m   1452\u001B[0m         last_result \u001B[38;5;241m=\u001B[39m results[\u001B[38;5;28mlen\u001B[39m(results) \u001B[38;5;241m-\u001B[39m \u001B[38;5;241m1\u001B[39m]\n",
      "File \u001B[1;32m~\\miniconda3\\envs\\pyecom\\lib\\site-packages\\ray\\rllib\\policy\\torch_policy_v2.py:1392\u001B[0m, in \u001B[0;36mTorchPolicyV2._multi_gpu_parallel_grad_calc.<locals>._worker\u001B[1;34m(shard_idx, model, sample_batch, device)\u001B[0m\n\u001B[0;32m   1390\u001B[0m         param\u001B[38;5;241m.\u001B[39mgrad\u001B[38;5;241m.\u001B[39mdata\u001B[38;5;241m.\u001B[39mzero_()\n\u001B[0;32m   1391\u001B[0m \u001B[38;5;66;03m# Recompute gradients of loss over all variables.\u001B[39;00m\n\u001B[1;32m-> 1392\u001B[0m \u001B[43mloss_out\u001B[49m\u001B[43m[\u001B[49m\u001B[43mopt_idx\u001B[49m\u001B[43m]\u001B[49m\u001B[38;5;241;43m.\u001B[39;49m\u001B[43mbackward\u001B[49m\u001B[43m(\u001B[49m\u001B[43mretain_graph\u001B[49m\u001B[38;5;241;43m=\u001B[39;49m\u001B[38;5;28;43;01mTrue\u001B[39;49;00m\u001B[43m)\u001B[49m\n\u001B[0;32m   1393\u001B[0m grad_info\u001B[38;5;241m.\u001B[39mupdate(\n\u001B[0;32m   1394\u001B[0m     \u001B[38;5;28mself\u001B[39m\u001B[38;5;241m.\u001B[39mextra_grad_process(opt, loss_out[opt_idx])\n\u001B[0;32m   1395\u001B[0m )\n\u001B[0;32m   1397\u001B[0m grads \u001B[38;5;241m=\u001B[39m []\n",
      "File \u001B[1;32m~\\miniconda3\\envs\\pyecom\\lib\\site-packages\\torch\\_tensor.py:522\u001B[0m, in \u001B[0;36mTensor.backward\u001B[1;34m(self, gradient, retain_graph, create_graph, inputs)\u001B[0m\n\u001B[0;32m    512\u001B[0m \u001B[38;5;28;01mif\u001B[39;00m has_torch_function_unary(\u001B[38;5;28mself\u001B[39m):\n\u001B[0;32m    513\u001B[0m     \u001B[38;5;28;01mreturn\u001B[39;00m handle_torch_function(\n\u001B[0;32m    514\u001B[0m         Tensor\u001B[38;5;241m.\u001B[39mbackward,\n\u001B[0;32m    515\u001B[0m         (\u001B[38;5;28mself\u001B[39m,),\n\u001B[1;32m   (...)\u001B[0m\n\u001B[0;32m    520\u001B[0m         inputs\u001B[38;5;241m=\u001B[39minputs,\n\u001B[0;32m    521\u001B[0m     )\n\u001B[1;32m--> 522\u001B[0m \u001B[43mtorch\u001B[49m\u001B[38;5;241;43m.\u001B[39;49m\u001B[43mautograd\u001B[49m\u001B[38;5;241;43m.\u001B[39;49m\u001B[43mbackward\u001B[49m\u001B[43m(\u001B[49m\n\u001B[0;32m    523\u001B[0m \u001B[43m    \u001B[49m\u001B[38;5;28;43mself\u001B[39;49m\u001B[43m,\u001B[49m\u001B[43m \u001B[49m\u001B[43mgradient\u001B[49m\u001B[43m,\u001B[49m\u001B[43m \u001B[49m\u001B[43mretain_graph\u001B[49m\u001B[43m,\u001B[49m\u001B[43m \u001B[49m\u001B[43mcreate_graph\u001B[49m\u001B[43m,\u001B[49m\u001B[43m \u001B[49m\u001B[43minputs\u001B[49m\u001B[38;5;241;43m=\u001B[39;49m\u001B[43minputs\u001B[49m\n\u001B[0;32m    524\u001B[0m \u001B[43m\u001B[49m\u001B[43m)\u001B[49m\n",
      "File \u001B[1;32m~\\miniconda3\\envs\\pyecom\\lib\\site-packages\\torch\\autograd\\__init__.py:266\u001B[0m, in \u001B[0;36mbackward\u001B[1;34m(tensors, grad_tensors, retain_graph, create_graph, grad_variables, inputs)\u001B[0m\n\u001B[0;32m    261\u001B[0m     retain_graph \u001B[38;5;241m=\u001B[39m create_graph\n\u001B[0;32m    263\u001B[0m \u001B[38;5;66;03m# The reason we repeat the same comment below is that\u001B[39;00m\n\u001B[0;32m    264\u001B[0m \u001B[38;5;66;03m# some Python versions print out the first line of a multi-line function\u001B[39;00m\n\u001B[0;32m    265\u001B[0m \u001B[38;5;66;03m# calls in the traceback and some print out the last line\u001B[39;00m\n\u001B[1;32m--> 266\u001B[0m \u001B[43mVariable\u001B[49m\u001B[38;5;241;43m.\u001B[39;49m\u001B[43m_execution_engine\u001B[49m\u001B[38;5;241;43m.\u001B[39;49m\u001B[43mrun_backward\u001B[49m\u001B[43m(\u001B[49m\u001B[43m  \u001B[49m\u001B[38;5;66;43;03m# Calls into the C++ engine to run the backward pass\u001B[39;49;00m\n\u001B[0;32m    267\u001B[0m \u001B[43m    \u001B[49m\u001B[43mtensors\u001B[49m\u001B[43m,\u001B[49m\n\u001B[0;32m    268\u001B[0m \u001B[43m    \u001B[49m\u001B[43mgrad_tensors_\u001B[49m\u001B[43m,\u001B[49m\n\u001B[0;32m    269\u001B[0m \u001B[43m    \u001B[49m\u001B[43mretain_graph\u001B[49m\u001B[43m,\u001B[49m\n\u001B[0;32m    270\u001B[0m \u001B[43m    \u001B[49m\u001B[43mcreate_graph\u001B[49m\u001B[43m,\u001B[49m\n\u001B[0;32m    271\u001B[0m \u001B[43m    \u001B[49m\u001B[43minputs\u001B[49m\u001B[43m,\u001B[49m\n\u001B[0;32m    272\u001B[0m \u001B[43m    \u001B[49m\u001B[43mallow_unreachable\u001B[49m\u001B[38;5;241;43m=\u001B[39;49m\u001B[38;5;28;43;01mTrue\u001B[39;49;00m\u001B[43m,\u001B[49m\n\u001B[0;32m    273\u001B[0m \u001B[43m    \u001B[49m\u001B[43maccumulate_grad\u001B[49m\u001B[38;5;241;43m=\u001B[39;49m\u001B[38;5;28;43;01mTrue\u001B[39;49;00m\u001B[43m,\u001B[49m\n\u001B[0;32m    274\u001B[0m \u001B[43m\u001B[49m\u001B[43m)\u001B[49m\n",
      "\u001B[1;31mKeyboardInterrupt\u001B[0m: "
     ]
    },
    {
     "data": {
      "text/plain": "<Figure size 640x480 with 0 Axes>"
     },
     "metadata": {},
     "output_type": "display_data"
    }
   ],
   "source": [
    "common_reward_factor = 1.0\n",
    "ssd_mitigation = ExperimentRunner(\n",
    "        [27, 27, 27],\n",
    "        results_dir=\"dilemma_runs\",\n",
    "        pricing_mode=\"tou\",\n",
    "        plot_rewards=True,\n",
    "        trading_phases=0,\n",
    "        pv_efficiency=0.5,\n",
    "        testing_mode=\"testing\",\n",
    "        training_params=training_params,\n",
    "        eval_interval=4,\n",
    "        log_plotting=False,\n",
    "        num_cpus=16,\n",
    "        common_reward_factor=common_reward_factor,\n",
    "        common_battery_type=\"default\"\n",
    "    )\n",
    "\n",
    "ssd_mitigation.run_multiple_training_runs({'few_months': 10}, get_experiment_name(common_reward_factor))"
   ],
   "metadata": {
    "collapsed": false
   }
  },
  {
   "cell_type": "code",
   "execution_count": null,
   "outputs": [],
   "source": [
    "common_reward_factor = 2.5\n",
    "ssd_mitigation = ExperimentRunner(\n",
    "        [27, 27, 27],\n",
    "        results_dir=\"dilemma_runs\",\n",
    "        pricing_mode=\"tou\",\n",
    "        plot_rewards=True,\n",
    "        trading_phases=0,\n",
    "        pv_efficiency=0.5,\n",
    "        testing_mode=\"testing\",\n",
    "        training_params=training_params,\n",
    "        eval_interval=4,\n",
    "        log_plotting=False,\n",
    "        num_cpus=16,\n",
    "        common_reward_factor=common_reward_factor,\n",
    "        common_battery_type=\"default\"\n",
    "    )\n",
    "\n",
    "ssd_mitigation.run_multiple_training_runs({'few_months': 10}, get_experiment_name(common_reward_factor))"
   ],
   "metadata": {
    "collapsed": false
   }
  },
  {
   "cell_type": "code",
   "execution_count": null,
   "outputs": [],
   "source": [
    "common_reward_factor = 5.0\n",
    "ssd_mitigation = ExperimentRunner(\n",
    "        [27, 27, 27],\n",
    "        results_dir=\"dilemma_runs\",\n",
    "        pricing_mode=\"tou\",\n",
    "        plot_rewards=True,\n",
    "        trading_phases=0,\n",
    "        pv_efficiency=0.5,\n",
    "        testing_mode=\"testing\",\n",
    "        training_params=training_params,\n",
    "        eval_interval=4,\n",
    "        log_plotting=False,\n",
    "        num_cpus=16,\n",
    "        common_reward_factor=common_reward_factor,\n",
    "        common_battery_type=\"default\"\n",
    "    )\n",
    "\n",
    "ssd_mitigation.run_multiple_training_runs({'few_months': 10}, get_experiment_name(common_reward_factor))"
   ],
   "metadata": {
    "collapsed": false
   }
  },
  {
   "cell_type": "code",
   "execution_count": null,
   "outputs": [],
   "source": [
    "common_reward_factor = 10.0\n",
    "ssd_mitigation = ExperimentRunner(\n",
    "        [27, 27, 27],\n",
    "        results_dir=\"dilemma_runs\",\n",
    "        pricing_mode=\"tou\",\n",
    "        plot_rewards=True,\n",
    "        trading_phases=0,\n",
    "        pv_efficiency=0.5,\n",
    "        testing_mode=\"testing\",\n",
    "        training_params=training_params,\n",
    "        eval_interval=4,\n",
    "        log_plotting=False,\n",
    "        num_cpus=16,\n",
    "        common_reward_factor=common_reward_factor,\n",
    "        common_battery_type=\"default\"\n",
    "    )\n",
    "\n",
    "ssd_mitigation.run_multiple_training_runs({'few_months': 10}, get_experiment_name(common_reward_factor))"
   ],
   "metadata": {
    "collapsed": false
   }
  },
  {
   "cell_type": "code",
   "execution_count": null,
   "outputs": [],
   "source": [
    "common_reward_factor = 25.0\n",
    "ssd_mitigation = ExperimentRunner(\n",
    "        [27, 27, 27],\n",
    "        results_dir=\"dilemma_runs\",\n",
    "        pricing_mode=\"tou\",\n",
    "        plot_rewards=True,\n",
    "        trading_phases=0,\n",
    "        pv_efficiency=0.5,\n",
    "        testing_mode=\"testing\",\n",
    "        training_params=training_params,\n",
    "        eval_interval=4,\n",
    "        log_plotting=False,\n",
    "        num_cpus=16,\n",
    "        common_reward_factor=common_reward_factor,\n",
    "        common_battery_type=\"default\"\n",
    "    )\n",
    "\n",
    "ssd_mitigation.run_multiple_training_runs({'few_months': 10}, get_experiment_name(common_reward_factor))"
   ],
   "metadata": {
    "collapsed": false
   }
  },
  {
   "cell_type": "code",
   "execution_count": null,
   "outputs": [],
   "source": [
    "common_reward_factor = 50.0\n",
    "ssd_mitigation = ExperimentRunner(\n",
    "        [27, 27, 27],\n",
    "        results_dir=\"dilemma_runs\",\n",
    "        pricing_mode=\"tou\",\n",
    "        plot_rewards=True,\n",
    "        trading_phases=0,\n",
    "        pv_efficiency=0.5,\n",
    "        testing_mode=\"testing\",\n",
    "        training_params=training_params,\n",
    "        eval_interval=4,\n",
    "        log_plotting=False,\n",
    "        num_cpus=16,\n",
    "        common_reward_factor=common_reward_factor,\n",
    "        common_battery_type=\"default\"\n",
    "    )\n",
    "\n",
    "ssd_mitigation.run_multiple_training_runs({'few_months': 10}, get_experiment_name(common_reward_factor))"
   ],
   "metadata": {
    "collapsed": false
   }
  },
  {
   "cell_type": "code",
   "execution_count": null,
   "outputs": [],
   "source": [
    "results_dir = \"dilemma_runs\"\n",
    "read_and_plot_multiple_final_eval_rewards_grouped(\"results/{}/train\".format(results_dir), [\"dilemma_0_run\", \"dilemma_1_run\", \"dilemma_2_5_run\", \"dilemma_5_run\", \"dilemma_10_run\", \"dilemma_25_run\", \"dilemma_50_run\"], [\"0\", \"1\", \"2.5\", \"5\", \"10\", \"25\", \"50\"], save_path=\"results/{}/eval_rewards_{}.png\".format(results_dir, results_dir), common_battery_reward_mode=True, limit_y=True)"
   ],
   "metadata": {
    "collapsed": false
   }
  },
  {
   "cell_type": "code",
   "execution_count": null,
   "outputs": [],
   "source": [
    "# Plotting rewards\n",
    "root_dir = 'results/dilemma_runs'\n",
    "\n",
    "results_by_coeff = get_results_by_coeff(root_dir)"
   ],
   "metadata": {
    "collapsed": false
   }
  },
  {
   "cell_type": "code",
   "execution_count": null,
   "outputs": [],
   "source": [
    "perform_pairwise_analysis_baseline(results_by_coeff)"
   ],
   "metadata": {
    "collapsed": false
   }
  },
  {
   "cell_type": "code",
   "execution_count": null,
   "outputs": [],
   "source": [
    "plot_and_save_rewards_by_coeff(results_by_coeff, plot_type='boxplot', file_name=\"plots/mitigation_fixed_coefficient_0_5_pv_boxplot.png\",\n",
    "                      title=r\"Final Evaluation Costs for Different $\\beta_s$ Values, $\\eta_{\\text{pv}} = 0.5$\", xlabel=r'$\\beta_s$', sort_numerically=True)"
   ],
   "metadata": {
    "collapsed": false
   }
  },
  {
   "cell_type": "code",
   "execution_count": null,
   "outputs": [],
   "source": [
    "run_energy_plotting(\"dilemma_runs\", group_prefix=\"dilemma_0_run\")"
   ],
   "metadata": {
    "collapsed": false
   }
  },
  {
   "cell_type": "code",
   "execution_count": null,
   "outputs": [],
   "source": [
    "run_energy_plotting(\"dilemma_runs\", group_prefix=\"dilemma_10_run\")"
   ],
   "metadata": {
    "collapsed": false
   }
  },
  {
   "cell_type": "code",
   "execution_count": null,
   "outputs": [],
   "source": [
    "run_energy_plotting(\"dilemma_runs\", group_prefix=\"dilemma_25_run\")"
   ],
   "metadata": {
    "collapsed": false
   }
  },
  {
   "cell_type": "code",
   "execution_count": null,
   "outputs": [],
   "source": [
    "# SSD mitigation with price-based common battery reward factor\n",
    "common_reward_factor = 0.0\n",
    "ssd_mitigation = ExperimentRunner(\n",
    "        [27, 27, 27],\n",
    "        results_dir=\"dilemma_runs_price_based\",\n",
    "        pricing_mode=\"tou\",\n",
    "        plot_rewards=True,\n",
    "        trading_phases=0,\n",
    "        pv_efficiency=0.5,\n",
    "        testing_mode=\"testing\",\n",
    "        training_params=training_params,\n",
    "        eval_interval=4,\n",
    "        log_plotting=False,\n",
    "        num_cpus=16,\n",
    "        common_reward_factor=common_reward_factor,\n",
    "        price_based_common_reward_factor=True,\n",
    "        common_battery_type=\"default\"\n",
    "    )\n",
    "\n",
    "ssd_mitigation.run_multiple_training_runs({'few_months': 10}, get_experiment_name(common_reward_factor, True))"
   ],
   "metadata": {
    "collapsed": false
   }
  },
  {
   "cell_type": "code",
   "execution_count": null,
   "outputs": [],
   "source": [
    "common_reward_factor = 0.1\n",
    "ssd_mitigation = ExperimentRunner(\n",
    "        [27, 27, 27],\n",
    "        results_dir=\"dilemma_runs_price_based\",\n",
    "        pricing_mode=\"tou\",\n",
    "        plot_rewards=True,\n",
    "        trading_phases=0,\n",
    "        pv_efficiency=0.5,\n",
    "        testing_mode=\"testing\",\n",
    "        training_params=training_params,\n",
    "        eval_interval=4,\n",
    "        log_plotting=False,\n",
    "        num_cpus=16,\n",
    "        common_reward_factor=common_reward_factor,\n",
    "        price_based_common_reward_factor=True,\n",
    "        common_battery_type=\"default\"\n",
    "    )\n",
    "\n",
    "ssd_mitigation.run_multiple_training_runs({'few_months': 10}, get_experiment_name(common_reward_factor, True))"
   ],
   "metadata": {
    "collapsed": false
   }
  },
  {
   "cell_type": "code",
   "execution_count": null,
   "outputs": [],
   "source": [
    "# SSD mitigation with price-based common battery reward factor\n",
    "common_reward_factor = 0.25\n",
    "ssd_mitigation = ExperimentRunner(\n",
    "        [27, 27, 27],\n",
    "        results_dir=\"dilemma_runs_price_based\",\n",
    "        pricing_mode=\"tou\",\n",
    "        plot_rewards=True,\n",
    "        trading_phases=0,\n",
    "        pv_efficiency=0.5,\n",
    "        testing_mode=\"testing\",\n",
    "        training_params=training_params,\n",
    "        eval_interval=4,\n",
    "        log_plotting=False,\n",
    "        num_cpus=16,\n",
    "        common_reward_factor=common_reward_factor,\n",
    "        price_based_common_reward_factor=True,\n",
    "        common_battery_type=\"default\"\n",
    "    )\n",
    "\n",
    "ssd_mitigation.run_multiple_training_runs({'few_months': 10}, get_experiment_name(common_reward_factor, True))"
   ],
   "metadata": {
    "collapsed": false
   }
  },
  {
   "cell_type": "code",
   "execution_count": null,
   "outputs": [],
   "source": [
    "# SSD mitigation with price-based common battery reward factor\n",
    "common_reward_factor = 0.5\n",
    "ssd_mitigation = ExperimentRunner(\n",
    "        [27, 27, 27],\n",
    "        results_dir=\"dilemma_runs_price_based\",\n",
    "        pricing_mode=\"tou\",\n",
    "        plot_rewards=True,\n",
    "        trading_phases=0,\n",
    "        pv_efficiency=0.5,\n",
    "        testing_mode=\"testing\",\n",
    "        training_params=training_params,\n",
    "        eval_interval=4,\n",
    "        log_plotting=False,\n",
    "        num_cpus=16,\n",
    "        common_reward_factor=common_reward_factor,\n",
    "        price_based_common_reward_factor=True,\n",
    "        common_battery_type=\"default\"\n",
    "    )\n",
    "\n",
    "ssd_mitigation.run_multiple_training_runs({'few_months': 10}, get_experiment_name(common_reward_factor, True))"
   ],
   "metadata": {
    "collapsed": false
   }
  },
  {
   "cell_type": "code",
   "execution_count": null,
   "outputs": [],
   "source": [
    "root_dir = 'results/dilemma_price_based'\n",
    "results_by_coeff = get_results_by_coeff(root_dir)"
   ],
   "metadata": {
    "collapsed": false
   }
  },
  {
   "cell_type": "code",
   "execution_count": null,
   "outputs": [],
   "source": [
    "analysis_results = perform_pairwise_analysis_baseline(results_by_coeff)"
   ],
   "metadata": {
    "collapsed": false
   }
  },
  {
   "cell_type": "code",
   "execution_count": null,
   "outputs": [],
   "source": [
    "plot_and_save_rewards_by_coeff(results_by_coeff, plot_type='boxplot', file_name=\"plots/mitigation_price_coefficient_0_5_pv_boxplot.png\",\n",
    "                      title=r\"Final Evaluation Costs for Different $\\lambda_s$ Values, $\\eta_{\\text{pv}} = 0.5$\", xlabel=r'$\\lambda_s$')"
   ],
   "metadata": {
    "collapsed": false
   }
  }
 ],
 "metadata": {
  "kernelspec": {
   "display_name": "Python 3",
   "language": "python",
   "name": "python3"
  },
  "language_info": {
   "codemirror_mode": {
    "name": "ipython",
    "version": 2
   },
   "file_extension": ".py",
   "mimetype": "text/x-python",
   "name": "python",
   "nbconvert_exporter": "python",
   "pygments_lexer": "ipython2",
   "version": "2.7.6"
  }
 },
 "nbformat": 4,
 "nbformat_minor": 0
}
