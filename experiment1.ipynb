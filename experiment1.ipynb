{
 "cells": [
  {
   "cell_type": "code",
   "execution_count": null,
   "metadata": {
    "collapsed": true
   },
   "outputs": [],
   "source": [
    "from src.experiments.experiment_runner import ExperimentRunner\n",
    "from src.utils.plotting.eval_reward_plotting import read_and_plot_multiple_final_eval_rewards\n",
    "from src.utils.plotting.energy_plots import run_energy_plotting\n",
    "\n",
    "%matplotlib notebook"
   ]
  },
  {
   "cell_type": "code",
   "execution_count": null,
   "outputs": [],
   "source": [
    "training_params = {\n",
    "    \"lr\": 5e-5,\n",
    "    \"gamma\": 0.99,\n",
    "    \"train_batch_size\": 50000,\n",
    "    \"sgd_minibatch_size\": 512,\n",
    "    \"clip_param\": 0.15,\n",
    "    \"num_sgd_iter\": 10,\n",
    "    'model': {\n",
    "        'fcnet_hiddens': [256, 256],\n",
    "        'fcnet_activation': 'relu',\n",
    "    },\n",
    "}"
   ],
   "metadata": {
    "collapsed": false
   }
  },
  {
   "cell_type": "code",
   "execution_count": null,
   "outputs": [],
   "source": [
    "experiment1_runner = ExperimentRunner([142, 142, 142, 142, 142, 142, 142, 142, 142, 142], results_dir=\"results/experiment1\",\n",
    "                                   pricing_mode=\"tou\", plot_rewards=True, trading_phases=0, pv_efficiency=1.0,\n",
    "                                   testing_mode=\"testing\", training_params=training_params, eval_interval=4,\n",
    "                                   log_plotting=False, reward_export=False, num_cpus=16)\n",
    "experiment1_runner.run_single_experiment('few_months', 'pv_1')"
   ],
   "metadata": {
    "collapsed": false
   }
  },
  {
   "cell_type": "code",
   "execution_count": null,
   "outputs": [],
   "source": [
    "experiment1_runner.pv_efficiency = 0.5\n",
    "experiment1_runner.run_single_experiment('few_months', 'pv_0_5')"
   ],
   "metadata": {
    "collapsed": false
   }
  },
  {
   "cell_type": "code",
   "execution_count": null,
   "outputs": [],
   "source": [
    "experiment1_runner.pv_efficiency = 0.25\n",
    "experiment1_runner.run_single_experiment('few_months', 'pv_0_25')"
   ],
   "metadata": {
    "collapsed": false
   }
  },
  {
   "cell_type": "code",
   "execution_count": null,
   "outputs": [],
   "source": [
    "experiment1_runner.pv_efficiency = 0.1\n",
    "experiment1_runner.run_single_experiment('few_months', 'pv_0_1')"
   ],
   "metadata": {
    "collapsed": false
   }
  },
  {
   "cell_type": "code",
   "execution_count": null,
   "outputs": [],
   "source": [
    "read_and_plot_multiple_final_eval_rewards([\"results/experiment1/train/pv_1_run_results_01\", \"results/experiment1/train/pv_0_5_run_results_01\", \"results/experiment1/train/pv_0_25_run_results_01\", \"results/experiment1/train/pv_0_1_run_results_01\"], [\"1.0\", \"0.5\", \"0.25\", \"0.1\"], \"results/experiment1/train/eval_rewards_plot_experiment1.jpg\", limit_y=True)"
   ],
   "metadata": {
    "collapsed": false
   }
  },
  {
   "cell_type": "code",
   "execution_count": null,
   "outputs": [],
   "source": [
    "run_energy_plotting(\"experiment1\", group_prefix=\"pv_1\")\n"
   ],
   "metadata": {
    "collapsed": false
   }
  }
 ],
 "metadata": {
  "kernelspec": {
   "display_name": "Python 3",
   "language": "python",
   "name": "python3"
  },
  "language_info": {
   "codemirror_mode": {
    "name": "ipython",
    "version": 2
   },
   "file_extension": ".py",
   "mimetype": "text/x-python",
   "name": "python",
   "nbconvert_exporter": "python",
   "pygments_lexer": "ipython2",
   "version": "2.7.6"
  }
 },
 "nbformat": 4,
 "nbformat_minor": 0
}
