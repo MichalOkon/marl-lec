{
 "cells": [
  {
   "cell_type": "code",
   "execution_count": null,
   "metadata": {
    "collapsed": true
   },
   "outputs": [],
   "source": [
    "from src.experiments.experiment_runner import ExperimentRunner\n",
    "from src.utils.match_utils import calculate_and_plot_match_outcomes\n",
    "from src.utils.plotting.households_plots import plot_household_data_from_dir\n",
    "\n",
    "%matplotlib notebook"
   ]
  },
  {
   "cell_type": "code",
   "execution_count": null,
   "outputs": [],
   "source": [
    "training_params = {\n",
    "    \"lr\": 5e-5,\n",
    "    \"gamma\": 0.99,\n",
    "    \"train_batch_size\": 50000,\n",
    "    \"sgd_minibatch_size\": 512,\n",
    "    \"clip_param\": 0.15,\n",
    "    \"num_sgd_iter\": 10,\n",
    "    'model': {\n",
    "        'fcnet_hiddens': [256, 256],\n",
    "        'fcnet_activation': 'relu',\n",
    "    },\n",
    "}"
   ],
   "metadata": {
    "collapsed": false
   }
  },
  {
   "cell_type": "code",
   "execution_count": null,
   "outputs": [],
   "source": [
    "# Train policies\n",
    "experiment2_runner = ExperimentRunner([27, 27, 27], results_dir=\"results/experiment2\", pricing_mode=\"tou\", plot_rewards=True,\n",
    "                             trading_phases=0,  pv_efficiency=3.0,\n",
    "                             testing_mode=\"testing\", training_params=training_params, eval_interval=4,\n",
    "                             log_plotting=False, num_cpus=16, reward_export=False, common_battery_type=\"default\")\n",
    "experiment2_runner.run_multiple_training_runs({\"few_months\": 5}, \"abundant\")"
   ],
   "metadata": {
    "collapsed": false
   }
  },
  {
   "cell_type": "code",
   "execution_count": null,
   "outputs": [],
   "source": [
    "experiment2_runner.pv_efficiency = 0.5\n",
    "experiment2_runner.run_multiple_training_runs({\"few_months\": 5}, \"scarce\")"
   ],
   "metadata": {
    "collapsed": false
   }
  },
  {
   "cell_type": "code",
   "execution_count": null,
   "outputs": [],
   "source": [
    "# Run matches\n",
    "experiment2_runner.pv_efficiency = 0.5\n",
    "experiment2_runner.run_matches(10, limited_env_name=\"scarce\", rich_env_name=\"abundant\", match_results_filename=\"match_results_scarce\")"
   ],
   "metadata": {
    "collapsed": false
   }
  },
  {
   "cell_type": "code",
   "execution_count": null,
   "outputs": [],
   "source": [
    "experiment2_runner.pv_efficiency = 3.0\n",
    "experiment2_runner.run_matches(10, limited_env_name=\"scarce\", rich_env_name=\"abundant\", match_results_filename=\"match_results_abundant\")"
   ],
   "metadata": {
    "collapsed": false
   }
  },
  {
   "cell_type": "code",
   "execution_count": null,
   "outputs": [],
   "source": [
    "calculate_and_plot_match_outcomes(\"match_results_scarce\", \"match_results_abundant\", \"match_results_plot\")"
   ],
   "metadata": {
    "collapsed": false
   }
  },
  {
   "cell_type": "code",
   "execution_count": null,
   "outputs": [],
   "source": [
    "plot_household_data_from_dir(\"results/matches/match_results_scarce/mixed2\", [\"scarce\", \"abundant\"], \"results/matches/matches_runs_final_averaged/mixed2/household_plot_0_5_pv.jpg\")"
   ],
   "metadata": {
    "collapsed": false
   }
  },
  {
   "cell_type": "code",
   "execution_count": null,
   "outputs": [],
   "source": [],
   "metadata": {
    "collapsed": false
   }
  }
 ],
 "metadata": {
  "kernelspec": {
   "display_name": "Python 3",
   "language": "python",
   "name": "python3"
  },
  "language_info": {
   "codemirror_mode": {
    "name": "ipython",
    "version": 2
   },
   "file_extension": ".py",
   "mimetype": "text/x-python",
   "name": "python",
   "nbconvert_exporter": "python",
   "pygments_lexer": "ipython2",
   "version": "2.7.6"
  }
 },
 "nbformat": 4,
 "nbformat_minor": 0
}
