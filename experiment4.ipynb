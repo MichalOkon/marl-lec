{
 "cells": [
  {
   "cell_type": "code",
   "execution_count": null,
   "outputs": [],
   "source": [
    "from src.experiments.experiment_runner import ExperimentRunner\n",
    "from src.utils.experiment_utils import get_results_and_baselines_by_label\n",
    "from src.utils.experiment_utils import plot_and_save_rewards_by_label\n",
    "from src.utils.experiment_utils import perform_pairwise_analysis_by_coeff\n",
    "from src.utils.plotting.energy_plots import run_energy_plotting\n",
    "\n",
    "%matplotlib notebook"
   ],
   "metadata": {
    "collapsed": false
   }
  },
  {
   "cell_type": "code",
   "execution_count": null,
   "outputs": [],
   "source": [
    "training_params = {\n",
    "    \"lr\": 5e-5,\n",
    "    \"gamma\": 0.99,\n",
    "    \"train_batch_size\": 50000,\n",
    "    \"sgd_minibatch_size\": 512,\n",
    "    \"clip_param\": 0.15,\n",
    "    \"num_sgd_iter\": 10,\n",
    "    'model': {\n",
    "        'fcnet_hiddens': [256, 256],\n",
    "        'fcnet_activation': 'relu',\n",
    "    },\n",
    "}\n",
    "\n",
    "household_ids = [914, 950, 5997, 3000, 5587, 5679, 387, 1222, 3488, 3517]"
   ],
   "metadata": {
    "collapsed": false
   }
  },
  {
   "cell_type": "code",
   "execution_count": null,
   "outputs": [],
   "source": [
    "experiment_real = ExperimentRunner(household_ids, results_dir=\"results/real_scenario\",\n",
    "                                   pricing_mode=\"tou\", plot_rewards=True,\n",
    "                                   trading_phases=1,\n",
    "                                   pv_efficiency=0.5,\n",
    "                                   testing_mode=\"testing\", training_params=training_params, eval_interval=4,\n",
    "                                   log_plotting=False, reward_export=False, num_cpus=16, common_reward_factor=0.0, price_based_common_reward_factor=False, common_battery_type=\"lower_efficiency\")\n",
    "experiment_real.run_multiple_training_runs({'few_months': 10}, 'scarce')"
   ],
   "metadata": {
    "collapsed": false
   }
  },
  {
   "cell_type": "code",
   "execution_count": null,
   "outputs": [],
   "source": [
    "experiment_real = ExperimentRunner(household_ids, results_dir=\"results/real_scenario\",\n",
    "                                   pricing_mode=\"tou\", plot_rewards=True,\n",
    "                                   trading_phases=1,\n",
    "                                   pv_efficiency=1.0,\n",
    "                                   testing_mode=\"testing\", training_params=training_params, eval_interval=4,\n",
    "                                   log_plotting=False, reward_export=False, num_cpus=16, common_reward_factor=0.0, price_based_common_reward_factor=False, common_battery_type=\"lower_efficiency\")\n",
    "experiment_real.run_multiple_training_runs({'few_months': 10}, 'normal')"
   ],
   "metadata": {
    "collapsed": false
   }
  },
  {
   "cell_type": "code",
   "execution_count": null,
   "outputs": [],
   "source": [
    "experiment_real = ExperimentRunner(household_ids, results_dir=\"results/real_scenario\",\n",
    "                                   pricing_mode=\"tou\", plot_rewards=True,\n",
    "                                   trading_phases=1,\n",
    "                                   pv_efficiency=2.0,\n",
    "                                   testing_mode=\"testing\", training_params=training_params, eval_interval=4,\n",
    "                                   log_plotting=False, reward_export=False, num_cpus=16, common_reward_factor=0.0, price_based_common_reward_factor=False, common_battery_type=\"lower_efficiency\")\n",
    "experiment_real.run_multiple_training_runs({'few_months': 10}, 'abundant')"
   ],
   "metadata": {
    "collapsed": false
   }
  },
  {
   "cell_type": "code",
   "execution_count": null,
   "outputs": [],
   "source": [
    "experiment_real = ExperimentRunner(household_ids, results_dir=\"results/real_scenario\",\n",
    "                                   pricing_mode=\"tou\", plot_rewards=True,\n",
    "                                   trading_phases=1,\n",
    "                                   pv_efficiency=0.5,\n",
    "                                   testing_mode=\"testing\", training_params=training_params, eval_interval=4,\n",
    "                                   log_plotting=False, reward_export=False, num_cpus=16, common_reward_factor=10.0, price_based_common_reward_factor=False, common_battery_type=\"lower_efficiency\")\n",
    "experiment_real.run_multiple_training_runs({'few_months': 10}, 'mitigation')"
   ],
   "metadata": {
    "collapsed": false
   }
  },
  {
   "cell_type": "code",
   "execution_count": null,
   "outputs": [],
   "source": [
    "results, baselines = get_results_and_baselines_by_label(\"results/real_scenario\", {\n",
    "    \"abundant_run_results\": \"Abundant\",\n",
    "    \"normal_run_results\": \"Normal\",\n",
    "    \"scarce_run_results\": \"Scarce\",\n",
    "    \"mitigation_run_results\": \"Scarce with Mitigation\"\n",
    "})"
   ],
   "metadata": {
    "collapsed": false
   }
  },
  {
   "cell_type": "code",
   "execution_count": null,
   "outputs": [],
   "source": [
    "plot_and_save_rewards_by_label(results, plot_type='bar', file_name=\"plots/real_scenario_rewards_barplot.png\",\n",
    "                               title=\"Final Evaluation Reward Improvement for Different Real Scenarios\",\n",
    "                               xlabel=\"Scenario\", ylabel=\"Average Reward Improvement [%]\", baseline=baselines)"
   ],
   "metadata": {
    "collapsed": false
   }
  },
  {
   "cell_type": "code",
   "execution_count": null,
   "outputs": [],
   "source": [
    "perform_pairwise_analysis_by_coeff(results, baselines)"
   ],
   "metadata": {
    "collapsed": false
   }
  },
  {
   "cell_type": "code",
   "execution_count": null,
   "outputs": [],
   "source": [
    "run_energy_plotting(\"real_scenario\", group_prefix=\"scarce\")"
   ],
   "metadata": {
    "collapsed": false
   }
  },
  {
   "cell_type": "code",
   "execution_count": null,
   "outputs": [],
   "source": [
    "run_energy_plotting(\"real_scenario\", group_prefix=\"mitigation\")"
   ],
   "metadata": {
    "collapsed": false
   }
  }
 ],
 "metadata": {
  "kernelspec": {
   "display_name": "Python 3",
   "language": "python",
   "name": "python3"
  },
  "language_info": {
   "codemirror_mode": {
    "name": "ipython",
    "version": 2
   },
   "file_extension": ".py",
   "mimetype": "text/x-python",
   "name": "python",
   "nbconvert_exporter": "python",
   "pygments_lexer": "ipython2",
   "version": "2.7.6"
  }
 },
 "nbformat": 4,
 "nbformat_minor": 0
}
