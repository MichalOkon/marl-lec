{
 "cells": [
  {
   "cell_type": "code",
   "execution_count": 1,
   "metadata": {
    "collapsed": true
   },
   "outputs": [],
   "source": [
    "from src.experiments.experiment_runner import ExperimentRunner\n",
    "from src.utils.experiment_utils import get_results_and_baselines_by_label\n",
    "from src.utils.experiment_utils import plot_and_save_rewards_by_label\n",
    "from src.utils.experiment_utils import perform_pairwise_analysis_by_coeff\n",
    "from src.utils.plotting.energy_plots import run_energy_plotting\n",
    "\n",
    "%matplotlib notebook"
   ]
  },
  {
   "cell_type": "code",
   "execution_count": 2,
   "outputs": [],
   "source": [
    "training_params = {\n",
    "    \"lr\": 5e-5,\n",
    "    \"gamma\": 0.99,\n",
    "    \"train_batch_size\": 50000,\n",
    "    \"sgd_minibatch_size\": 512,\n",
    "    \"clip_param\": 0.15,\n",
    "    \"num_sgd_iter\": 10,\n",
    "    'model': {\n",
    "        'fcnet_hiddens': [256, 256],\n",
    "        'fcnet_activation': 'relu',\n",
    "    },\n",
    "}\n",
    "\n",
    "household_ids = [914, 950, 5997, 3000, 5587, 5679, 387, 1222, 3488, 3517]"
   ],
   "metadata": {
    "collapsed": false
   }
  },
  {
   "cell_type": "code",
   "execution_count": 3,
   "outputs": [
    {
     "name": "stderr",
     "output_type": "stream",
     "text": [
      "2025-02-17 21:48:06,672\tINFO worker.py:1777 -- Started a local Ray instance. View the dashboard at \u001B[1m\u001B[32m127.0.0.1:8268 \u001B[39m\u001B[22m\n"
     ]
    },
    {
     "name": "stdout",
     "output_type": "stream",
     "text": [
      "Current working directory: C:\\Users\\micha\\Documents\\Przegrane\\Delft\\masters\\marl-lec\n",
      "Trying to access: C:\\Users\\micha\\Documents\\Przegrane\\Delft\\masters\\marl-lec\\src\\config\\battery_config,json\n",
      "Missing timestamps for household 914:\n",
      "Empty DataFrame\n",
      "Columns: [id, grid, solar, solar2, usage, total_solar, pv_prediction]\n",
      "Index: []\n",
      "Length of household 914 timeseries: 16224\n",
      "Current working directory: C:\\Users\\micha\\Documents\\Przegrane\\Delft\\masters\\marl-lec\n",
      "Trying to access: C:\\Users\\micha\\Documents\\Przegrane\\Delft\\masters\\marl-lec\\src\\config\\battery_config,json\n",
      "Missing timestamps for household 950:\n",
      "Empty DataFrame\n",
      "Columns: [id, grid, solar, solar2, usage, total_solar, pv_prediction]\n",
      "Index: []\n",
      "Length of household 950 timeseries: 16224\n",
      "Current working directory: C:\\Users\\micha\\Documents\\Przegrane\\Delft\\masters\\marl-lec\n",
      "Trying to access: C:\\Users\\micha\\Documents\\Przegrane\\Delft\\masters\\marl-lec\\src\\config\\battery_config,json\n",
      "Missing timestamps for household 5997:\n",
      "Empty DataFrame\n",
      "Columns: [id, grid, solar, solar2, usage, total_solar, pv_prediction]\n",
      "Index: []\n",
      "Length of household 5997 timeseries: 16224\n",
      "Current working directory: C:\\Users\\micha\\Documents\\Przegrane\\Delft\\masters\\marl-lec\n",
      "Trying to access: C:\\Users\\micha\\Documents\\Przegrane\\Delft\\masters\\marl-lec\\src\\config\\battery_config,json\n",
      "Missing timestamps for household 3000:\n",
      "Empty DataFrame\n",
      "Columns: [id, grid, solar, solar2, usage, total_solar, pv_prediction]\n",
      "Index: []\n",
      "Length of household 3000 timeseries: 16224\n",
      "Current working directory: C:\\Users\\micha\\Documents\\Przegrane\\Delft\\masters\\marl-lec\n",
      "Trying to access: C:\\Users\\micha\\Documents\\Przegrane\\Delft\\masters\\marl-lec\\src\\config\\battery_config,json\n",
      "Missing timestamps for household 5587:\n",
      "Empty DataFrame\n",
      "Columns: [id, grid, solar, solar2, usage, total_solar, pv_prediction]\n",
      "Index: []\n",
      "Length of household 5587 timeseries: 16224\n",
      "Current working directory: C:\\Users\\micha\\Documents\\Przegrane\\Delft\\masters\\marl-lec\n",
      "Trying to access: C:\\Users\\micha\\Documents\\Przegrane\\Delft\\masters\\marl-lec\\src\\config\\battery_config,json\n",
      "Missing timestamps for household 5679:\n",
      "Empty DataFrame\n",
      "Columns: [id, grid, solar, solar2, usage, total_solar, pv_prediction]\n",
      "Index: []\n",
      "Length of household 5679 timeseries: 16224\n",
      "Current working directory: C:\\Users\\micha\\Documents\\Przegrane\\Delft\\masters\\marl-lec\n",
      "Trying to access: C:\\Users\\micha\\Documents\\Przegrane\\Delft\\masters\\marl-lec\\src\\config\\battery_config,json\n",
      "Missing timestamps for household 387:\n",
      "Empty DataFrame\n",
      "Columns: [id, grid, solar, solar2, usage, total_solar, pv_prediction]\n",
      "Index: []\n",
      "Length of household 387 timeseries: 16224\n",
      "Current working directory: C:\\Users\\micha\\Documents\\Przegrane\\Delft\\masters\\marl-lec\n",
      "Trying to access: C:\\Users\\micha\\Documents\\Przegrane\\Delft\\masters\\marl-lec\\src\\config\\battery_config,json\n",
      "Missing timestamps for household 1222:\n",
      "Empty DataFrame\n",
      "Columns: [id, grid, solar, solar2, usage, total_solar, pv_prediction]\n",
      "Index: []\n",
      "Length of household 1222 timeseries: 16224\n",
      "Current working directory: C:\\Users\\micha\\Documents\\Przegrane\\Delft\\masters\\marl-lec\n",
      "Trying to access: C:\\Users\\micha\\Documents\\Przegrane\\Delft\\masters\\marl-lec\\src\\config\\battery_config,json\n",
      "Missing timestamps for household 3488:\n",
      "Empty DataFrame\n",
      "Columns: [id, grid, solar, solar2, usage, total_solar, pv_prediction]\n",
      "Index: []\n",
      "Length of household 3488 timeseries: 16224\n",
      "Current working directory: C:\\Users\\micha\\Documents\\Przegrane\\Delft\\masters\\marl-lec\n",
      "Trying to access: C:\\Users\\micha\\Documents\\Przegrane\\Delft\\masters\\marl-lec\\src\\config\\battery_config,json\n",
      "Missing timestamps for household 3517:\n",
      "Empty DataFrame\n",
      "Columns: [id, grid, solar, solar2, usage, total_solar, pv_prediction]\n",
      "Index: []\n",
      "Length of household 3517 timeseries: 16224\n",
      "Current working directory: C:\\Users\\micha\\Documents\\Przegrane\\Delft\\masters\\marl-lec\n",
      "Trying to access: C:\\Users\\micha\\Documents\\Przegrane\\Delft\\masters\\marl-lec\\src\\config\\battery_config,json\n",
      "dict_keys(['914_0', '950_1', '5997_2', '3000_3', '5587_4', '5679_5', '387_6', '1222_7', '3488_8', '3517_9'])\n",
      "Current working directory: C:\\Users\\micha\\Documents\\Przegrane\\Delft\\masters\\marl-lec\n",
      "Trying to access: C:\\Users\\micha\\Documents\\Przegrane\\Delft\\masters\\marl-lec\\src\\config\\battery_config,json\n",
      "Missing timestamps for household 914:\n",
      "Empty DataFrame\n",
      "Columns: [id, grid, solar, solar2, usage, total_solar, pv_prediction]\n",
      "Index: []\n",
      "Length of household 914 timeseries: 1440\n",
      "Current working directory: C:\\Users\\micha\\Documents\\Przegrane\\Delft\\masters\\marl-lec\n",
      "Trying to access: C:\\Users\\micha\\Documents\\Przegrane\\Delft\\masters\\marl-lec\\src\\config\\battery_config,json\n",
      "Missing timestamps for household 950:\n",
      "Empty DataFrame\n",
      "Columns: [id, grid, solar, solar2, usage, total_solar, pv_prediction]\n",
      "Index: []\n",
      "Length of household 950 timeseries: 1440\n",
      "Current working directory: C:\\Users\\micha\\Documents\\Przegrane\\Delft\\masters\\marl-lec\n",
      "Trying to access: C:\\Users\\micha\\Documents\\Przegrane\\Delft\\masters\\marl-lec\\src\\config\\battery_config,json\n",
      "Missing timestamps for household 5997:\n",
      "Empty DataFrame\n",
      "Columns: [id, grid, solar, solar2, usage, total_solar, pv_prediction]\n",
      "Index: []\n",
      "Length of household 5997 timeseries: 1440\n",
      "Current working directory: C:\\Users\\micha\\Documents\\Przegrane\\Delft\\masters\\marl-lec\n",
      "Trying to access: C:\\Users\\micha\\Documents\\Przegrane\\Delft\\masters\\marl-lec\\src\\config\\battery_config,json\n",
      "Missing timestamps for household 3000:\n",
      "Empty DataFrame\n",
      "Columns: [id, grid, solar, solar2, usage, total_solar, pv_prediction]\n",
      "Index: []\n",
      "Length of household 3000 timeseries: 1440\n",
      "Current working directory: C:\\Users\\micha\\Documents\\Przegrane\\Delft\\masters\\marl-lec\n",
      "Trying to access: C:\\Users\\micha\\Documents\\Przegrane\\Delft\\masters\\marl-lec\\src\\config\\battery_config,json\n",
      "Missing timestamps for household 5587:\n",
      "Empty DataFrame\n",
      "Columns: [id, grid, solar, solar2, usage, total_solar, pv_prediction]\n",
      "Index: []\n",
      "Length of household 5587 timeseries: 1440\n",
      "Current working directory: C:\\Users\\micha\\Documents\\Przegrane\\Delft\\masters\\marl-lec\n",
      "Trying to access: C:\\Users\\micha\\Documents\\Przegrane\\Delft\\masters\\marl-lec\\src\\config\\battery_config,json\n",
      "Missing timestamps for household 5679:\n",
      "Empty DataFrame\n",
      "Columns: [id, grid, solar, solar2, usage, total_solar, pv_prediction]\n",
      "Index: []\n",
      "Length of household 5679 timeseries: 1440\n",
      "Current working directory: C:\\Users\\micha\\Documents\\Przegrane\\Delft\\masters\\marl-lec\n",
      "Trying to access: C:\\Users\\micha\\Documents\\Przegrane\\Delft\\masters\\marl-lec\\src\\config\\battery_config,json\n",
      "Missing timestamps for household 387:\n",
      "Empty DataFrame\n",
      "Columns: [id, grid, solar, solar2, usage, total_solar, pv_prediction]\n",
      "Index: []\n",
      "Length of household 387 timeseries: 1440\n",
      "Current working directory: C:\\Users\\micha\\Documents\\Przegrane\\Delft\\masters\\marl-lec\n",
      "Trying to access: C:\\Users\\micha\\Documents\\Przegrane\\Delft\\masters\\marl-lec\\src\\config\\battery_config,json\n",
      "Missing timestamps for household 1222:\n",
      "Empty DataFrame\n",
      "Columns: [id, grid, solar, solar2, usage, total_solar, pv_prediction]\n",
      "Index: []\n",
      "Length of household 1222 timeseries: 1440\n",
      "Current working directory: C:\\Users\\micha\\Documents\\Przegrane\\Delft\\masters\\marl-lec\n",
      "Trying to access: C:\\Users\\micha\\Documents\\Przegrane\\Delft\\masters\\marl-lec\\src\\config\\battery_config,json\n",
      "Missing timestamps for household 3488:\n",
      "Empty DataFrame\n",
      "Columns: [id, grid, solar, solar2, usage, total_solar, pv_prediction]\n",
      "Index: []\n",
      "Length of household 3488 timeseries: 1440\n",
      "Current working directory: C:\\Users\\micha\\Documents\\Przegrane\\Delft\\masters\\marl-lec\n",
      "Trying to access: C:\\Users\\micha\\Documents\\Przegrane\\Delft\\masters\\marl-lec\\src\\config\\battery_config,json\n",
      "Missing timestamps for household 3517:\n",
      "Empty DataFrame\n",
      "Columns: [id, grid, solar, solar2, usage, total_solar, pv_prediction]\n",
      "Index: []\n",
      "Length of household 3517 timeseries: 1440\n",
      "Current working directory: C:\\Users\\micha\\Documents\\Przegrane\\Delft\\masters\\marl-lec\n",
      "Trying to access: C:\\Users\\micha\\Documents\\Przegrane\\Delft\\masters\\marl-lec\\src\\config\\battery_config,json\n",
      "dict_keys(['914_0', '950_1', '5997_2', '3000_3', '5587_4', '5679_5', '387_6', '1222_7', '3488_8', '3517_9'])\n",
      "Common reward factor:  0.0\n",
      "Common reward factor:  0.0\n"
     ]
    },
    {
     "name": "stderr",
     "output_type": "stream",
     "text": [
      "2025-02-17 21:48:12,938\tWARNING deprecation.py:50 -- DeprecationWarning: `AlgorithmConfig.env_runners(num_rollout_workers)` has been deprecated. Use `AlgorithmConfig.env_runners(num_env_runners)` instead. This will raise an error in the future!\n",
      "2025-02-17 21:48:12,938\tWARNING deprecation.py:50 -- DeprecationWarning: `AlgorithmConfig.env_runners(num_envs_per_worker)` has been deprecated. Use `AlgorithmConfig.env_runners(num_envs_per_env_runner)` instead. This will raise an error in the future!\n"
     ]
    },
    {
     "name": "stdout",
     "output_type": "stream",
     "text": [
      "Total timesteps per episode: 16208\n"
     ]
    },
    {
     "name": "stderr",
     "output_type": "stream",
     "text": [
      "C:\\Users\\micha\\miniconda3\\envs\\pyecom\\lib\\site-packages\\ray\\rllib\\algorithms\\algorithm.py:555: RayDeprecationWarning: This API is deprecated and may be removed in future Ray releases. You could suppress this warning by setting env variable PYTHONWARNINGS=\"ignore::DeprecationWarning\"\n",
      "`UnifiedLogger` will be removed in Ray 2.7.\n",
      "  return UnifiedLogger(config, logdir, loggers=None)\n",
      "C:\\Users\\micha\\miniconda3\\envs\\pyecom\\lib\\site-packages\\ray\\tune\\logger\\unified.py:53: RayDeprecationWarning: This API is deprecated and may be removed in future Ray releases. You could suppress this warning by setting env variable PYTHONWARNINGS=\"ignore::DeprecationWarning\"\n",
      "The `JsonLogger interface is deprecated in favor of the `ray.tune.json.JsonLoggerCallback` interface and will be removed in Ray 2.7.\n",
      "  self._loggers.append(cls(self.config, self.logdir, self.trial))\n",
      "C:\\Users\\micha\\miniconda3\\envs\\pyecom\\lib\\site-packages\\ray\\tune\\logger\\unified.py:53: RayDeprecationWarning: This API is deprecated and may be removed in future Ray releases. You could suppress this warning by setting env variable PYTHONWARNINGS=\"ignore::DeprecationWarning\"\n",
      "The `CSVLogger interface is deprecated in favor of the `ray.tune.csv.CSVLoggerCallback` interface and will be removed in Ray 2.7.\n",
      "  self._loggers.append(cls(self.config, self.logdir, self.trial))\n",
      "C:\\Users\\micha\\miniconda3\\envs\\pyecom\\lib\\site-packages\\ray\\tune\\logger\\unified.py:53: RayDeprecationWarning: This API is deprecated and may be removed in future Ray releases. You could suppress this warning by setting env variable PYTHONWARNINGS=\"ignore::DeprecationWarning\"\n",
      "The `TBXLogger interface is deprecated in favor of the `ray.tune.tensorboardx.TBXLoggerCallback` interface and will be removed in Ray 2.7.\n",
      "  self._loggers.append(cls(self.config, self.logdir, self.trial))\n",
      "\u001B[36m(pid=22892)\u001B[0m *** SIGABRT received at time=1739825299 ***\n",
      "\u001B[36m(pid=22892)\u001B[0m     @   00007FFF267FF6E1  (unknown)  (unknown)\n",
      "\u001B[36m(pid=22892)\u001B[0m     @   00007FFF267FEE19  (unknown)  (unknown)\n",
      "\u001B[36m(pid=22892)\u001B[0m     @   00007FFF10D41AB1  (unknown)  (unknown)\n",
      "\u001B[36m(pid=22892)\u001B[0m     @   00007FFF10D4232F  (unknown)  (unknown)\n",
      "\u001B[36m(pid=22892)\u001B[0m     @   00007FFF10D42389  (unknown)  (unknown)\n",
      "\u001B[36m(pid=22892)\u001B[0m     @   00007FFF10D44189  (unknown)  (unknown)\n",
      "\u001B[36m(pid=22892)\u001B[0m     @   00007FFF28C5543F  (unknown)  (unknown)\n",
      "\u001B[36m(pid=22892)\u001B[0m     @   00007FFF28BCE886  (unknown)  (unknown)\n",
      "\u001B[36m(pid=22892)\u001B[0m     @   00007FFF28C04955  (unknown)  (unknown)\n",
      "\u001B[36m(pid=22892)\u001B[0m     @   00007FFF262AFB4C  (unknown)  (unknown)\n",
      "\u001B[36m(pid=22892)\u001B[0m     @   00007FFF049C6BA7  (unknown)  (unknown)\n",
      "\u001B[36m(pid=22892)\u001B[0m     @   00007FFEA1E06127  (unknown)  (unknown)\n",
      "\u001B[36m(pid=22892)\u001B[0m     @   00007FFEA1E04EA5  (unknown)  (unknown)\n",
      "\u001B[36m(pid=22892)\u001B[0m     @   00007FFEA15A766E  (unknown)  (unknown)\n",
      "\u001B[36m(pid=22892)\u001B[0m     @   00007FFEA16A86AD  (unknown)  (unknown)\n",
      "\u001B[36m(pid=22892)\u001B[0m     @   00007FFEA16A4F71  (unknown)  (unknown)\n",
      "\u001B[36m(pid=22892)\u001B[0m     @   00007FFEA1867B3A  (unknown)  (unknown)\n",
      "\u001B[36m(pid=22892)\u001B[0m     @   00007FFEA18673A9  (unknown)  (unknown)\n",
      "\u001B[36m(pid=22892)\u001B[0m     @   00007FFEA186AC49  (unknown)  (unknown)\n",
      "\u001B[36m(pid=22892)\u001B[0m     @   00007FFEA1867506  (unknown)  (unknown)\n",
      "\u001B[36m(pid=22892)\u001B[0m     @   00007FFEA1868662  (unknown)  (unknown)\n",
      "\u001B[36m(pid=22892)\u001B[0m     @   00007FFEA1CDF77C  (unknown)  (unknown)\n",
      "\u001B[36m(pid=22892)\u001B[0m     @   00007FFEA1CE4244  (unknown)  (unknown)\n",
      "\u001B[36m(pid=22892)\u001B[0m     @   00007FFEA1CE35A3  (unknown)  (unknown)\n",
      "\u001B[36m(pid=22892)\u001B[0m     @   00007FFEA169E7AC  (unknown)  (unknown)\n",
      "\u001B[36m(pid=22892)\u001B[0m     @   00007FFF267A9333  (unknown)  (unknown)\n",
      "\u001B[36m(pid=22892)\u001B[0m     @   00007FFF27F9259D  (unknown)  (unknown)\n",
      "\u001B[36m(pid=22892)\u001B[0m     @   00007FFF28C0AF38  (unknown)  (unknown)\n",
      "\u001B[36m(pid=22892)\u001B[0m Fatal Python error: Aborted\n",
      "\u001B[36m(pid=22892)\u001B[0m \n",
      "\u001B[36m(pid=22892)\u001B[0m \n",
      "\u001B[36m(pid=22892)\u001B[0m Extension modules: msgpack._cmsgpack, google._upb._message, psutil._psutil_windows, setproctitle, yaml._yaml, _brotli, ray._raylet, mkl._mklinit, mkl._py_mkl_service, numpy.core._multiarray_umath, numpy.core._multiarray_tests, numpy.linalg._umath_linalg, numpy.fft._pocketfft_internal, numpy.random._common, numpy.random.bit_generator, numpy.random._bounded_integers, numpy.random._mt19937, numpy.random.mtrand, numpy.random._philox, numpy.random._pcg64, numpy.random._sfc64, numpy.random._generator, torch._C, torch._C._fft, torch._C._linalg, torch._C._nested, torch._C._nn, torch._C._sparse, torch._C._special (total: 29)\n"
     ]
    },
    {
     "ename": "MemoryError",
     "evalue": "Unable to allocate internal buffer.",
     "output_type": "error",
     "traceback": [
      "\u001B[1;31m---------------------------------------------------------------------------\u001B[0m",
      "\u001B[1;31mMemoryError\u001B[0m                               Traceback (most recent call last)",
      "Cell \u001B[1;32mIn[3], line 7\u001B[0m\n\u001B[0;32m      1\u001B[0m experiment_real \u001B[38;5;241m=\u001B[39m ExperimentRunner(household_ids, results_dir\u001B[38;5;241m=\u001B[39m\u001B[38;5;124m\"\u001B[39m\u001B[38;5;124mreal_scenario\u001B[39m\u001B[38;5;124m\"\u001B[39m,\n\u001B[0;32m      2\u001B[0m                                    pricing_mode\u001B[38;5;241m=\u001B[39m\u001B[38;5;124m\"\u001B[39m\u001B[38;5;124mtou\u001B[39m\u001B[38;5;124m\"\u001B[39m, plot_rewards\u001B[38;5;241m=\u001B[39m\u001B[38;5;28;01mTrue\u001B[39;00m,\n\u001B[0;32m      3\u001B[0m                                    trading_phases\u001B[38;5;241m=\u001B[39m\u001B[38;5;241m1\u001B[39m,\n\u001B[0;32m      4\u001B[0m                                    pv_efficiency\u001B[38;5;241m=\u001B[39m\u001B[38;5;241m0.5\u001B[39m,\n\u001B[0;32m      5\u001B[0m                                    testing_mode\u001B[38;5;241m=\u001B[39m\u001B[38;5;124m\"\u001B[39m\u001B[38;5;124mtesting\u001B[39m\u001B[38;5;124m\"\u001B[39m, training_params\u001B[38;5;241m=\u001B[39mtraining_params, eval_interval\u001B[38;5;241m=\u001B[39m\u001B[38;5;241m4\u001B[39m,\n\u001B[0;32m      6\u001B[0m                                    log_plotting\u001B[38;5;241m=\u001B[39m\u001B[38;5;28;01mFalse\u001B[39;00m, reward_export\u001B[38;5;241m=\u001B[39m\u001B[38;5;28;01mFalse\u001B[39;00m, num_cpus\u001B[38;5;241m=\u001B[39m\u001B[38;5;241m16\u001B[39m, common_reward_factor\u001B[38;5;241m=\u001B[39m\u001B[38;5;241m0.0\u001B[39m, price_based_common_reward_factor\u001B[38;5;241m=\u001B[39m\u001B[38;5;28;01mFalse\u001B[39;00m, common_battery_type\u001B[38;5;241m=\u001B[39m\u001B[38;5;124m\"\u001B[39m\u001B[38;5;124mlower_efficiency\u001B[39m\u001B[38;5;124m\"\u001B[39m)\n\u001B[1;32m----> 7\u001B[0m \u001B[43mexperiment_real\u001B[49m\u001B[38;5;241;43m.\u001B[39;49m\u001B[43mrun_multiple_training_runs\u001B[49m\u001B[43m(\u001B[49m\u001B[43m{\u001B[49m\u001B[38;5;124;43m'\u001B[39;49m\u001B[38;5;124;43mfew_months\u001B[39;49m\u001B[38;5;124;43m'\u001B[39;49m\u001B[43m:\u001B[49m\u001B[43m \u001B[49m\u001B[38;5;241;43m10\u001B[39;49m\u001B[43m}\u001B[49m\u001B[43m,\u001B[49m\u001B[43m \u001B[49m\u001B[38;5;124;43m'\u001B[39;49m\u001B[38;5;124;43mscarce\u001B[39;49m\u001B[38;5;124;43m'\u001B[39;49m\u001B[43m)\u001B[49m\n",
      "File \u001B[1;32m~\\Documents\\Przegrane\\Delft\\masters\\marl-lec\\src\\experiments\\experiment_runner.py:432\u001B[0m, in \u001B[0;36mExperimentRunner.run_multiple_training_runs\u001B[1;34m(self, scenarios, run_name)\u001B[0m\n\u001B[0;32m    430\u001B[0m     scenarios \u001B[38;5;241m=\u001B[39m [scenario \u001B[38;5;28;01mfor\u001B[39;00m scenario, count \u001B[38;5;129;01min\u001B[39;00m scenarios\u001B[38;5;241m.\u001B[39mitems() \u001B[38;5;28;01mfor\u001B[39;00m _ \u001B[38;5;129;01min\u001B[39;00m \u001B[38;5;28mrange\u001B[39m(count)]\n\u001B[0;32m    431\u001B[0m \u001B[38;5;28;01mfor\u001B[39;00m scenario \u001B[38;5;129;01min\u001B[39;00m scenarios:\n\u001B[1;32m--> 432\u001B[0m     results\u001B[38;5;241m.\u001B[39mappend(\u001B[38;5;28;43mself\u001B[39;49m\u001B[38;5;241;43m.\u001B[39;49m\u001B[43mrun_single_experiment\u001B[49m\u001B[43m(\u001B[49m\u001B[43mscenario\u001B[49m\u001B[43m,\u001B[49m\u001B[43m \u001B[49m\u001B[43mrun_name\u001B[49m\u001B[43m)\u001B[49m)\n\u001B[0;32m    433\u001B[0m \u001B[38;5;28;01mreturn\u001B[39;00m results\n",
      "File \u001B[1;32m~\\Documents\\Przegrane\\Delft\\masters\\marl-lec\\src\\experiments\\experiment_runner.py:269\u001B[0m, in \u001B[0;36mExperimentRunner.run_single_experiment\u001B[1;34m(self, scenario, run_name)\u001B[0m\n\u001B[0;32m    263\u001B[0m log_file \u001B[38;5;241m=\u001B[39m \u001B[38;5;124mf\u001B[39m\u001B[38;5;124m\"\u001B[39m\u001B[38;5;124mresults/logs/training_info_logs_\u001B[39m\u001B[38;5;132;01m{\u001B[39;00mformatted_time\u001B[38;5;132;01m}\u001B[39;00m\u001B[38;5;124m.log\u001B[39m\u001B[38;5;124m\"\u001B[39m\n\u001B[0;32m    264\u001B[0m logging\u001B[38;5;241m.\u001B[39mbasicConfig(\n\u001B[0;32m    265\u001B[0m     filename\u001B[38;5;241m=\u001B[39mlog_file, level\u001B[38;5;241m=\u001B[39mlogging\u001B[38;5;241m.\u001B[39mINFO, filemode\u001B[38;5;241m=\u001B[39m\u001B[38;5;124m'\u001B[39m\u001B[38;5;124mw\u001B[39m\u001B[38;5;124m'\u001B[39m,\n\u001B[0;32m    266\u001B[0m     \u001B[38;5;28mformat\u001B[39m\u001B[38;5;241m=\u001B[39m\u001B[38;5;124m\"\u001B[39m\u001B[38;5;132;01m%(asctime)s\u001B[39;00m\u001B[38;5;124m - \u001B[39m\u001B[38;5;132;01m%(message)s\u001B[39;00m\u001B[38;5;124m\"\u001B[39m\n\u001B[0;32m    267\u001B[0m )\n\u001B[1;32m--> 269\u001B[0m algo \u001B[38;5;241m=\u001B[39m \u001B[43mconfig\u001B[49m\u001B[38;5;241;43m.\u001B[39;49m\u001B[43mbuild\u001B[49m\u001B[43m(\u001B[49m\u001B[43m)\u001B[49m\n\u001B[0;32m    271\u001B[0m training_rewards \u001B[38;5;241m=\u001B[39m []\n\u001B[0;32m    272\u001B[0m training_rewards_per_ts \u001B[38;5;241m=\u001B[39m []\n",
      "File \u001B[1;32m~\\miniconda3\\envs\\pyecom\\lib\\site-packages\\ray\\rllib\\algorithms\\algorithm_config.py:889\u001B[0m, in \u001B[0;36mAlgorithmConfig.build\u001B[1;34m(self, env, logger_creator, use_copy)\u001B[0m\n\u001B[0;32m    886\u001B[0m \u001B[38;5;28;01mif\u001B[39;00m \u001B[38;5;28misinstance\u001B[39m(\u001B[38;5;28mself\u001B[39m\u001B[38;5;241m.\u001B[39malgo_class, \u001B[38;5;28mstr\u001B[39m):\n\u001B[0;32m    887\u001B[0m     algo_class \u001B[38;5;241m=\u001B[39m get_trainable_cls(\u001B[38;5;28mself\u001B[39m\u001B[38;5;241m.\u001B[39malgo_class)\n\u001B[1;32m--> 889\u001B[0m \u001B[38;5;28;01mreturn\u001B[39;00m \u001B[43malgo_class\u001B[49m\u001B[43m(\u001B[49m\n\u001B[0;32m    890\u001B[0m \u001B[43m    \u001B[49m\u001B[43mconfig\u001B[49m\u001B[38;5;241;43m=\u001B[39;49m\u001B[38;5;28;43mself\u001B[39;49m\u001B[43m \u001B[49m\u001B[38;5;28;43;01mif\u001B[39;49;00m\u001B[43m \u001B[49m\u001B[38;5;129;43;01mnot\u001B[39;49;00m\u001B[43m \u001B[49m\u001B[43muse_copy\u001B[49m\u001B[43m \u001B[49m\u001B[38;5;28;43;01melse\u001B[39;49;00m\u001B[43m \u001B[49m\u001B[43mcopy\u001B[49m\u001B[38;5;241;43m.\u001B[39;49m\u001B[43mdeepcopy\u001B[49m\u001B[43m(\u001B[49m\u001B[38;5;28;43mself\u001B[39;49m\u001B[43m)\u001B[49m\u001B[43m,\u001B[49m\n\u001B[0;32m    891\u001B[0m \u001B[43m    \u001B[49m\u001B[43mlogger_creator\u001B[49m\u001B[38;5;241;43m=\u001B[39;49m\u001B[38;5;28;43mself\u001B[39;49m\u001B[38;5;241;43m.\u001B[39;49m\u001B[43mlogger_creator\u001B[49m\u001B[43m,\u001B[49m\n\u001B[0;32m    892\u001B[0m \u001B[43m\u001B[49m\u001B[43m)\u001B[49m\n",
      "File \u001B[1;32m~\\miniconda3\\envs\\pyecom\\lib\\site-packages\\ray\\rllib\\algorithms\\algorithm.py:571\u001B[0m, in \u001B[0;36mAlgorithm.__init__\u001B[1;34m(self, config, env, logger_creator, **kwargs)\u001B[0m\n\u001B[0;32m    568\u001B[0m \u001B[38;5;66;03m# Evaluation EnvRunnerGroup and metrics last returned by `self.evaluate()`.\u001B[39;00m\n\u001B[0;32m    569\u001B[0m \u001B[38;5;28mself\u001B[39m\u001B[38;5;241m.\u001B[39meval_env_runner_group: Optional[EnvRunnerGroup] \u001B[38;5;241m=\u001B[39m \u001B[38;5;28;01mNone\u001B[39;00m\n\u001B[1;32m--> 571\u001B[0m \u001B[38;5;28msuper\u001B[39m()\u001B[38;5;241m.\u001B[39m\u001B[38;5;21m__init__\u001B[39m(\n\u001B[0;32m    572\u001B[0m     config\u001B[38;5;241m=\u001B[39mconfig,\n\u001B[0;32m    573\u001B[0m     logger_creator\u001B[38;5;241m=\u001B[39mlogger_creator,\n\u001B[0;32m    574\u001B[0m     \u001B[38;5;241m*\u001B[39m\u001B[38;5;241m*\u001B[39mkwargs,\n\u001B[0;32m    575\u001B[0m )\n",
      "File \u001B[1;32m~\\miniconda3\\envs\\pyecom\\lib\\site-packages\\ray\\tune\\trainable\\trainable.py:158\u001B[0m, in \u001B[0;36mTrainable.__init__\u001B[1;34m(self, config, logger_creator, storage)\u001B[0m\n\u001B[0;32m    154\u001B[0m     logger\u001B[38;5;241m.\u001B[39mdebug(\u001B[38;5;124mf\u001B[39m\u001B[38;5;124m\"\u001B[39m\u001B[38;5;124mStorageContext on the TRAINABLE:\u001B[39m\u001B[38;5;130;01m\\n\u001B[39;00m\u001B[38;5;132;01m{\u001B[39;00mstorage\u001B[38;5;132;01m}\u001B[39;00m\u001B[38;5;124m\"\u001B[39m)\n\u001B[0;32m    156\u001B[0m \u001B[38;5;28mself\u001B[39m\u001B[38;5;241m.\u001B[39m_open_logfiles(stdout_file, stderr_file)\n\u001B[1;32m--> 158\u001B[0m \u001B[38;5;28;43mself\u001B[39;49m\u001B[38;5;241;43m.\u001B[39;49m\u001B[43msetup\u001B[49m\u001B[43m(\u001B[49m\u001B[43mcopy\u001B[49m\u001B[38;5;241;43m.\u001B[39;49m\u001B[43mdeepcopy\u001B[49m\u001B[43m(\u001B[49m\u001B[38;5;28;43mself\u001B[39;49m\u001B[38;5;241;43m.\u001B[39;49m\u001B[43mconfig\u001B[49m\u001B[43m)\u001B[49m\u001B[43m)\u001B[49m\n\u001B[0;32m    159\u001B[0m setup_time \u001B[38;5;241m=\u001B[39m time\u001B[38;5;241m.\u001B[39mtime() \u001B[38;5;241m-\u001B[39m \u001B[38;5;28mself\u001B[39m\u001B[38;5;241m.\u001B[39m_start_time\n\u001B[0;32m    160\u001B[0m \u001B[38;5;28;01mif\u001B[39;00m setup_time \u001B[38;5;241m>\u001B[39m SETUP_TIME_THRESHOLD:\n",
      "File \u001B[1;32m~\\miniconda3\\envs\\pyecom\\lib\\site-packages\\ray\\rllib\\algorithms\\algorithm.py:657\u001B[0m, in \u001B[0;36mAlgorithm.setup\u001B[1;34m(self, config)\u001B[0m\n\u001B[0;32m    654\u001B[0m     \u001B[38;5;28mself\u001B[39m\u001B[38;5;241m.\u001B[39mconfig\u001B[38;5;241m.\u001B[39moff_policy_estimation_methods \u001B[38;5;241m=\u001B[39m ope_dict\n\u001B[0;32m    656\u001B[0m \u001B[38;5;66;03m# Create a set of env runner actors via a EnvRunnerGroup.\u001B[39;00m\n\u001B[1;32m--> 657\u001B[0m \u001B[38;5;28mself\u001B[39m\u001B[38;5;241m.\u001B[39menv_runner_group \u001B[38;5;241m=\u001B[39m \u001B[43mEnvRunnerGroup\u001B[49m\u001B[43m(\u001B[49m\n\u001B[0;32m    658\u001B[0m \u001B[43m    \u001B[49m\u001B[43menv_creator\u001B[49m\u001B[38;5;241;43m=\u001B[39;49m\u001B[38;5;28;43mself\u001B[39;49m\u001B[38;5;241;43m.\u001B[39;49m\u001B[43menv_creator\u001B[49m\u001B[43m,\u001B[49m\n\u001B[0;32m    659\u001B[0m \u001B[43m    \u001B[49m\u001B[43mvalidate_env\u001B[49m\u001B[38;5;241;43m=\u001B[39;49m\u001B[38;5;28;43mself\u001B[39;49m\u001B[38;5;241;43m.\u001B[39;49m\u001B[43mvalidate_env\u001B[49m\u001B[43m,\u001B[49m\n\u001B[0;32m    660\u001B[0m \u001B[43m    \u001B[49m\u001B[43mdefault_policy_class\u001B[49m\u001B[38;5;241;43m=\u001B[39;49m\u001B[38;5;28;43mself\u001B[39;49m\u001B[38;5;241;43m.\u001B[39;49m\u001B[43mget_default_policy_class\u001B[49m\u001B[43m(\u001B[49m\u001B[38;5;28;43mself\u001B[39;49m\u001B[38;5;241;43m.\u001B[39;49m\u001B[43mconfig\u001B[49m\u001B[43m)\u001B[49m\u001B[43m,\u001B[49m\n\u001B[0;32m    661\u001B[0m \u001B[43m    \u001B[49m\u001B[43mconfig\u001B[49m\u001B[38;5;241;43m=\u001B[39;49m\u001B[38;5;28;43mself\u001B[39;49m\u001B[38;5;241;43m.\u001B[39;49m\u001B[43mconfig\u001B[49m\u001B[43m,\u001B[49m\n\u001B[0;32m    662\u001B[0m \u001B[43m    \u001B[49m\u001B[43mnum_env_runners\u001B[49m\u001B[38;5;241;43m=\u001B[39;49m\u001B[43m(\u001B[49m\n\u001B[0;32m    663\u001B[0m \u001B[43m        \u001B[49m\u001B[38;5;241;43m0\u001B[39;49m\n\u001B[0;32m    664\u001B[0m \u001B[43m        \u001B[49m\u001B[38;5;28;43;01mif\u001B[39;49;00m\u001B[43m \u001B[49m\u001B[43m(\u001B[49m\n\u001B[0;32m    665\u001B[0m \u001B[43m            \u001B[49m\u001B[38;5;28;43mself\u001B[39;49m\u001B[38;5;241;43m.\u001B[39;49m\u001B[43mconfig\u001B[49m\u001B[38;5;241;43m.\u001B[39;49m\u001B[43minput_\u001B[49m\n\u001B[0;32m    666\u001B[0m \u001B[43m            \u001B[49m\u001B[38;5;129;43;01mand\u001B[39;49;00m\u001B[43m \u001B[49m\u001B[43m(\u001B[49m\n\u001B[0;32m    667\u001B[0m \u001B[43m                \u001B[49m\u001B[38;5;28;43misinstance\u001B[39;49m\u001B[43m(\u001B[49m\u001B[38;5;28;43mself\u001B[39;49m\u001B[38;5;241;43m.\u001B[39;49m\u001B[43mconfig\u001B[49m\u001B[38;5;241;43m.\u001B[39;49m\u001B[43minput_\u001B[49m\u001B[43m,\u001B[49m\u001B[43m \u001B[49m\u001B[38;5;28;43mstr\u001B[39;49m\u001B[43m)\u001B[49m\n\u001B[0;32m    668\u001B[0m \u001B[43m                \u001B[49m\u001B[38;5;129;43;01mor\u001B[39;49;00m\u001B[43m \u001B[49m\u001B[43m(\u001B[49m\n\u001B[0;32m    669\u001B[0m \u001B[43m                    \u001B[49m\u001B[38;5;28;43misinstance\u001B[39;49m\u001B[43m(\u001B[49m\u001B[38;5;28;43mself\u001B[39;49m\u001B[38;5;241;43m.\u001B[39;49m\u001B[43mconfig\u001B[49m\u001B[38;5;241;43m.\u001B[39;49m\u001B[43minput_\u001B[49m\u001B[43m,\u001B[49m\u001B[43m \u001B[49m\u001B[38;5;28;43mlist\u001B[39;49m\u001B[43m)\u001B[49m\n\u001B[0;32m    670\u001B[0m \u001B[43m                    \u001B[49m\u001B[38;5;129;43;01mand\u001B[39;49;00m\u001B[43m \u001B[49m\u001B[38;5;28;43misinstance\u001B[39;49m\u001B[43m(\u001B[49m\u001B[38;5;28;43mself\u001B[39;49m\u001B[38;5;241;43m.\u001B[39;49m\u001B[43mconfig\u001B[49m\u001B[38;5;241;43m.\u001B[39;49m\u001B[43minput_\u001B[49m\u001B[43m[\u001B[49m\u001B[38;5;241;43m0\u001B[39;49m\u001B[43m]\u001B[49m\u001B[43m,\u001B[49m\u001B[43m \u001B[49m\u001B[38;5;28;43mstr\u001B[39;49m\u001B[43m)\u001B[49m\n\u001B[0;32m    671\u001B[0m \u001B[43m                \u001B[49m\u001B[43m)\u001B[49m\n\u001B[0;32m    672\u001B[0m \u001B[43m            \u001B[49m\u001B[43m)\u001B[49m\n\u001B[0;32m    673\u001B[0m \u001B[43m            \u001B[49m\u001B[38;5;129;43;01mand\u001B[39;49;00m\u001B[43m \u001B[49m\u001B[38;5;28;43mself\u001B[39;49m\u001B[38;5;241;43m.\u001B[39;49m\u001B[43mconfig\u001B[49m\u001B[38;5;241;43m.\u001B[39;49m\u001B[43minput_\u001B[49m\u001B[43m \u001B[49m\u001B[38;5;241;43m!=\u001B[39;49m\u001B[43m \u001B[49m\u001B[38;5;124;43m\"\u001B[39;49m\u001B[38;5;124;43msampler\u001B[39;49m\u001B[38;5;124;43m\"\u001B[39;49m\n\u001B[0;32m    674\u001B[0m \u001B[43m            \u001B[49m\u001B[38;5;129;43;01mand\u001B[39;49;00m\u001B[43m \u001B[49m\u001B[38;5;28;43mself\u001B[39;49m\u001B[38;5;241;43m.\u001B[39;49m\u001B[43mconfig\u001B[49m\u001B[38;5;241;43m.\u001B[39;49m\u001B[43menable_rl_module_and_learner\u001B[49m\n\u001B[0;32m    675\u001B[0m \u001B[43m            \u001B[49m\u001B[38;5;129;43;01mand\u001B[39;49;00m\u001B[43m \u001B[49m\u001B[38;5;28;43mself\u001B[39;49m\u001B[38;5;241;43m.\u001B[39;49m\u001B[43mconfig\u001B[49m\u001B[38;5;241;43m.\u001B[39;49m\u001B[43menable_env_runner_and_connector_v2\u001B[49m\n\u001B[0;32m    676\u001B[0m \u001B[43m        \u001B[49m\u001B[43m)\u001B[49m\n\u001B[0;32m    677\u001B[0m \u001B[43m        \u001B[49m\u001B[38;5;28;43;01melse\u001B[39;49;00m\u001B[43m \u001B[49m\u001B[38;5;28;43mself\u001B[39;49m\u001B[38;5;241;43m.\u001B[39;49m\u001B[43mconfig\u001B[49m\u001B[38;5;241;43m.\u001B[39;49m\u001B[43mnum_env_runners\u001B[49m\n\u001B[0;32m    678\u001B[0m \u001B[43m    \u001B[49m\u001B[43m)\u001B[49m\u001B[43m,\u001B[49m\n\u001B[0;32m    679\u001B[0m \u001B[43m    \u001B[49m\u001B[43mlocal_env_runner\u001B[49m\u001B[38;5;241;43m=\u001B[39;49m\u001B[38;5;28;43;01mTrue\u001B[39;49;00m\u001B[43m,\u001B[49m\n\u001B[0;32m    680\u001B[0m \u001B[43m    \u001B[49m\u001B[43mlogdir\u001B[49m\u001B[38;5;241;43m=\u001B[39;49m\u001B[38;5;28;43mself\u001B[39;49m\u001B[38;5;241;43m.\u001B[39;49m\u001B[43mlogdir\u001B[49m\u001B[43m,\u001B[49m\n\u001B[0;32m    681\u001B[0m \u001B[43m    \u001B[49m\u001B[43mtune_trial_id\u001B[49m\u001B[38;5;241;43m=\u001B[39;49m\u001B[38;5;28;43mself\u001B[39;49m\u001B[38;5;241;43m.\u001B[39;49m\u001B[43mtrial_id\u001B[49m\u001B[43m,\u001B[49m\n\u001B[0;32m    682\u001B[0m \u001B[43m\u001B[49m\u001B[43m)\u001B[49m\n\u001B[0;32m    684\u001B[0m \u001B[38;5;66;03m# If an input path is available and we are on the new API stack generate\u001B[39;00m\n\u001B[0;32m    685\u001B[0m \u001B[38;5;66;03m# an `OfflineData` instance.\u001B[39;00m\n\u001B[0;32m    686\u001B[0m \u001B[38;5;28;01mif\u001B[39;00m (\n\u001B[0;32m    687\u001B[0m     \u001B[38;5;28mself\u001B[39m\u001B[38;5;241m.\u001B[39mconfig\u001B[38;5;241m.\u001B[39minput_\n\u001B[0;32m    688\u001B[0m     \u001B[38;5;129;01mand\u001B[39;00m (\n\u001B[1;32m   (...)\u001B[0m\n\u001B[0;32m    697\u001B[0m     \u001B[38;5;129;01mand\u001B[39;00m \u001B[38;5;28mself\u001B[39m\u001B[38;5;241m.\u001B[39mconfig\u001B[38;5;241m.\u001B[39menable_env_runner_and_connector_v2\n\u001B[0;32m    698\u001B[0m ):\n",
      "File \u001B[1;32m~\\miniconda3\\envs\\pyecom\\lib\\site-packages\\ray\\rllib\\env\\env_runner_group.py:189\u001B[0m, in \u001B[0;36mEnvRunnerGroup.__init__\u001B[1;34m(self, env_creator, validate_env, default_policy_class, config, num_env_runners, local_env_runner, logdir, _setup, tune_trial_id, num_workers, local_worker)\u001B[0m\n\u001B[0;32m    187\u001B[0m \u001B[38;5;28;01mif\u001B[39;00m _setup:\n\u001B[0;32m    188\u001B[0m     \u001B[38;5;28;01mtry\u001B[39;00m:\n\u001B[1;32m--> 189\u001B[0m         \u001B[38;5;28;43mself\u001B[39;49m\u001B[38;5;241;43m.\u001B[39;49m\u001B[43m_setup\u001B[49m\u001B[43m(\u001B[49m\n\u001B[0;32m    190\u001B[0m \u001B[43m            \u001B[49m\u001B[43mvalidate_env\u001B[49m\u001B[38;5;241;43m=\u001B[39;49m\u001B[43mvalidate_env\u001B[49m\u001B[43m,\u001B[49m\n\u001B[0;32m    191\u001B[0m \u001B[43m            \u001B[49m\u001B[43mconfig\u001B[49m\u001B[38;5;241;43m=\u001B[39;49m\u001B[43mconfig\u001B[49m\u001B[43m,\u001B[49m\n\u001B[0;32m    192\u001B[0m \u001B[43m            \u001B[49m\u001B[43mnum_env_runners\u001B[49m\u001B[38;5;241;43m=\u001B[39;49m\u001B[43mnum_env_runners\u001B[49m\u001B[43m,\u001B[49m\n\u001B[0;32m    193\u001B[0m \u001B[43m            \u001B[49m\u001B[43mlocal_env_runner\u001B[49m\u001B[38;5;241;43m=\u001B[39;49m\u001B[43mlocal_env_runner\u001B[49m\u001B[43m,\u001B[49m\n\u001B[0;32m    194\u001B[0m \u001B[43m        \u001B[49m\u001B[43m)\u001B[49m\n\u001B[0;32m    195\u001B[0m     \u001B[38;5;66;03m# EnvRunnerGroup creation possibly fails, if some (remote) workers cannot\u001B[39;00m\n\u001B[0;32m    196\u001B[0m     \u001B[38;5;66;03m# be initialized properly (due to some errors in the EnvRunners's\u001B[39;00m\n\u001B[0;32m    197\u001B[0m     \u001B[38;5;66;03m# constructor).\u001B[39;00m\n\u001B[0;32m    198\u001B[0m     \u001B[38;5;28;01mexcept\u001B[39;00m RayActorError \u001B[38;5;28;01mas\u001B[39;00m e:\n\u001B[0;32m    199\u001B[0m         \u001B[38;5;66;03m# In case of an actor (remote worker) init failure, the remote worker\u001B[39;00m\n\u001B[0;32m    200\u001B[0m         \u001B[38;5;66;03m# may still exist and will be accessible, however, e.g. calling\u001B[39;00m\n\u001B[0;32m    201\u001B[0m         \u001B[38;5;66;03m# its `sample.remote()` would result in strange \"property not found\"\u001B[39;00m\n\u001B[0;32m    202\u001B[0m         \u001B[38;5;66;03m# errors.\u001B[39;00m\n",
      "File \u001B[1;32m~\\miniconda3\\envs\\pyecom\\lib\\site-packages\\ray\\rllib\\env\\env_runner_group.py:259\u001B[0m, in \u001B[0;36mEnvRunnerGroup._setup\u001B[1;34m(self, validate_env, config, num_env_runners, local_env_runner)\u001B[0m\n\u001B[0;32m    256\u001B[0m     \u001B[38;5;28mself\u001B[39m\u001B[38;5;241m.\u001B[39m_ds_shards \u001B[38;5;241m=\u001B[39m \u001B[38;5;28;01mNone\u001B[39;00m\n\u001B[0;32m    258\u001B[0m \u001B[38;5;66;03m# Create a number of @ray.remote workers.\u001B[39;00m\n\u001B[1;32m--> 259\u001B[0m \u001B[38;5;28;43mself\u001B[39;49m\u001B[38;5;241;43m.\u001B[39;49m\u001B[43madd_workers\u001B[49m\u001B[43m(\u001B[49m\n\u001B[0;32m    260\u001B[0m \u001B[43m    \u001B[49m\u001B[43mnum_env_runners\u001B[49m\u001B[43m,\u001B[49m\n\u001B[0;32m    261\u001B[0m \u001B[43m    \u001B[49m\u001B[43mvalidate\u001B[49m\u001B[38;5;241;43m=\u001B[39;49m\u001B[43mconfig\u001B[49m\u001B[38;5;241;43m.\u001B[39;49m\u001B[43mvalidate_env_runners_after_construction\u001B[49m\u001B[43m,\u001B[49m\n\u001B[0;32m    262\u001B[0m \u001B[43m\u001B[49m\u001B[43m)\u001B[49m\n\u001B[0;32m    264\u001B[0m \u001B[38;5;66;03m# If num_env_runners > 0 and we don't have an env on the local worker,\u001B[39;00m\n\u001B[0;32m    265\u001B[0m \u001B[38;5;66;03m# get the observation- and action spaces for each policy from\u001B[39;00m\n\u001B[0;32m    266\u001B[0m \u001B[38;5;66;03m# the first remote worker (which does have an env).\u001B[39;00m\n\u001B[0;32m    267\u001B[0m \u001B[38;5;28;01mif\u001B[39;00m (\n\u001B[0;32m    268\u001B[0m     local_env_runner\n\u001B[0;32m    269\u001B[0m     \u001B[38;5;129;01mand\u001B[39;00m \u001B[38;5;28mself\u001B[39m\u001B[38;5;241m.\u001B[39m_worker_manager\u001B[38;5;241m.\u001B[39mnum_actors() \u001B[38;5;241m>\u001B[39m \u001B[38;5;241m0\u001B[39m\n\u001B[1;32m   (...)\u001B[0m\n\u001B[0;32m    272\u001B[0m     \u001B[38;5;129;01mand\u001B[39;00m (\u001B[38;5;129;01mnot\u001B[39;00m config\u001B[38;5;241m.\u001B[39mobservation_space \u001B[38;5;129;01mor\u001B[39;00m \u001B[38;5;129;01mnot\u001B[39;00m config\u001B[38;5;241m.\u001B[39maction_space)\n\u001B[0;32m    273\u001B[0m ):\n",
      "File \u001B[1;32m~\\miniconda3\\envs\\pyecom\\lib\\site-packages\\ray\\rllib\\env\\env_runner_group.py:770\u001B[0m, in \u001B[0;36mEnvRunnerGroup.add_workers\u001B[1;34m(self, num_workers, validate)\u001B[0m\n\u001B[0;32m    754\u001B[0m \u001B[38;5;250m\u001B[39m\u001B[38;5;124;03m\"\"\"Creates and adds a number of remote workers to this worker set.\u001B[39;00m\n\u001B[0;32m    755\u001B[0m \n\u001B[0;32m    756\u001B[0m \u001B[38;5;124;03mCan be called several times on the same EnvRunnerGroup to add more\u001B[39;00m\n\u001B[1;32m   (...)\u001B[0m\n\u001B[0;32m    767\u001B[0m \u001B[38;5;124;03m        properly.\u001B[39;00m\n\u001B[0;32m    768\u001B[0m \u001B[38;5;124;03m\"\"\"\u001B[39;00m\n\u001B[0;32m    769\u001B[0m old_num_workers \u001B[38;5;241m=\u001B[39m \u001B[38;5;28mself\u001B[39m\u001B[38;5;241m.\u001B[39m_worker_manager\u001B[38;5;241m.\u001B[39mnum_actors()\n\u001B[1;32m--> 770\u001B[0m new_workers \u001B[38;5;241m=\u001B[39m [\n\u001B[0;32m    771\u001B[0m     \u001B[38;5;28mself\u001B[39m\u001B[38;5;241m.\u001B[39m_make_worker(\n\u001B[0;32m    772\u001B[0m         \u001B[38;5;28mcls\u001B[39m\u001B[38;5;241m=\u001B[39m\u001B[38;5;28mself\u001B[39m\u001B[38;5;241m.\u001B[39m_cls,\n\u001B[0;32m    773\u001B[0m         env_creator\u001B[38;5;241m=\u001B[39m\u001B[38;5;28mself\u001B[39m\u001B[38;5;241m.\u001B[39m_env_creator,\n\u001B[0;32m    774\u001B[0m         validate_env\u001B[38;5;241m=\u001B[39m\u001B[38;5;28;01mNone\u001B[39;00m,\n\u001B[0;32m    775\u001B[0m         worker_index\u001B[38;5;241m=\u001B[39mold_num_workers \u001B[38;5;241m+\u001B[39m i \u001B[38;5;241m+\u001B[39m \u001B[38;5;241m1\u001B[39m,\n\u001B[0;32m    776\u001B[0m         num_workers\u001B[38;5;241m=\u001B[39mold_num_workers \u001B[38;5;241m+\u001B[39m num_workers,\n\u001B[0;32m    777\u001B[0m         config\u001B[38;5;241m=\u001B[39m\u001B[38;5;28mself\u001B[39m\u001B[38;5;241m.\u001B[39m_remote_config,\n\u001B[0;32m    778\u001B[0m     )\n\u001B[0;32m    779\u001B[0m     \u001B[38;5;28;01mfor\u001B[39;00m i \u001B[38;5;129;01min\u001B[39;00m \u001B[38;5;28mrange\u001B[39m(num_workers)\n\u001B[0;32m    780\u001B[0m ]\n\u001B[0;32m    781\u001B[0m \u001B[38;5;28mself\u001B[39m\u001B[38;5;241m.\u001B[39m_worker_manager\u001B[38;5;241m.\u001B[39madd_actors(new_workers)\n\u001B[0;32m    783\u001B[0m \u001B[38;5;66;03m# Validate here, whether all remote workers have been constructed properly\u001B[39;00m\n\u001B[0;32m    784\u001B[0m \u001B[38;5;66;03m# and are \"up and running\". Establish initial states.\u001B[39;00m\n",
      "File \u001B[1;32m~\\miniconda3\\envs\\pyecom\\lib\\site-packages\\ray\\rllib\\env\\env_runner_group.py:771\u001B[0m, in \u001B[0;36m<listcomp>\u001B[1;34m(.0)\u001B[0m\n\u001B[0;32m    754\u001B[0m \u001B[38;5;250m\u001B[39m\u001B[38;5;124;03m\"\"\"Creates and adds a number of remote workers to this worker set.\u001B[39;00m\n\u001B[0;32m    755\u001B[0m \n\u001B[0;32m    756\u001B[0m \u001B[38;5;124;03mCan be called several times on the same EnvRunnerGroup to add more\u001B[39;00m\n\u001B[1;32m   (...)\u001B[0m\n\u001B[0;32m    767\u001B[0m \u001B[38;5;124;03m        properly.\u001B[39;00m\n\u001B[0;32m    768\u001B[0m \u001B[38;5;124;03m\"\"\"\u001B[39;00m\n\u001B[0;32m    769\u001B[0m old_num_workers \u001B[38;5;241m=\u001B[39m \u001B[38;5;28mself\u001B[39m\u001B[38;5;241m.\u001B[39m_worker_manager\u001B[38;5;241m.\u001B[39mnum_actors()\n\u001B[0;32m    770\u001B[0m new_workers \u001B[38;5;241m=\u001B[39m [\n\u001B[1;32m--> 771\u001B[0m     \u001B[38;5;28;43mself\u001B[39;49m\u001B[38;5;241;43m.\u001B[39;49m\u001B[43m_make_worker\u001B[49m\u001B[43m(\u001B[49m\n\u001B[0;32m    772\u001B[0m \u001B[43m        \u001B[49m\u001B[38;5;28;43mcls\u001B[39;49m\u001B[38;5;241;43m=\u001B[39;49m\u001B[38;5;28;43mself\u001B[39;49m\u001B[38;5;241;43m.\u001B[39;49m\u001B[43m_cls\u001B[49m\u001B[43m,\u001B[49m\n\u001B[0;32m    773\u001B[0m \u001B[43m        \u001B[49m\u001B[43menv_creator\u001B[49m\u001B[38;5;241;43m=\u001B[39;49m\u001B[38;5;28;43mself\u001B[39;49m\u001B[38;5;241;43m.\u001B[39;49m\u001B[43m_env_creator\u001B[49m\u001B[43m,\u001B[49m\n\u001B[0;32m    774\u001B[0m \u001B[43m        \u001B[49m\u001B[43mvalidate_env\u001B[49m\u001B[38;5;241;43m=\u001B[39;49m\u001B[38;5;28;43;01mNone\u001B[39;49;00m\u001B[43m,\u001B[49m\n\u001B[0;32m    775\u001B[0m \u001B[43m        \u001B[49m\u001B[43mworker_index\u001B[49m\u001B[38;5;241;43m=\u001B[39;49m\u001B[43mold_num_workers\u001B[49m\u001B[43m \u001B[49m\u001B[38;5;241;43m+\u001B[39;49m\u001B[43m \u001B[49m\u001B[43mi\u001B[49m\u001B[43m \u001B[49m\u001B[38;5;241;43m+\u001B[39;49m\u001B[43m \u001B[49m\u001B[38;5;241;43m1\u001B[39;49m\u001B[43m,\u001B[49m\n\u001B[0;32m    776\u001B[0m \u001B[43m        \u001B[49m\u001B[43mnum_workers\u001B[49m\u001B[38;5;241;43m=\u001B[39;49m\u001B[43mold_num_workers\u001B[49m\u001B[43m \u001B[49m\u001B[38;5;241;43m+\u001B[39;49m\u001B[43m \u001B[49m\u001B[43mnum_workers\u001B[49m\u001B[43m,\u001B[49m\n\u001B[0;32m    777\u001B[0m \u001B[43m        \u001B[49m\u001B[43mconfig\u001B[49m\u001B[38;5;241;43m=\u001B[39;49m\u001B[38;5;28;43mself\u001B[39;49m\u001B[38;5;241;43m.\u001B[39;49m\u001B[43m_remote_config\u001B[49m\u001B[43m,\u001B[49m\n\u001B[0;32m    778\u001B[0m \u001B[43m    \u001B[49m\u001B[43m)\u001B[49m\n\u001B[0;32m    779\u001B[0m     \u001B[38;5;28;01mfor\u001B[39;00m i \u001B[38;5;129;01min\u001B[39;00m \u001B[38;5;28mrange\u001B[39m(num_workers)\n\u001B[0;32m    780\u001B[0m ]\n\u001B[0;32m    781\u001B[0m \u001B[38;5;28mself\u001B[39m\u001B[38;5;241m.\u001B[39m_worker_manager\u001B[38;5;241m.\u001B[39madd_actors(new_workers)\n\u001B[0;32m    783\u001B[0m \u001B[38;5;66;03m# Validate here, whether all remote workers have been constructed properly\u001B[39;00m\n\u001B[0;32m    784\u001B[0m \u001B[38;5;66;03m# and are \"up and running\". Establish initial states.\u001B[39;00m\n",
      "File \u001B[1;32m~\\miniconda3\\envs\\pyecom\\lib\\site-packages\\ray\\rllib\\env\\env_runner_group.py:1173\u001B[0m, in \u001B[0;36mEnvRunnerGroup._make_worker\u001B[1;34m(self, cls, env_creator, validate_env, worker_index, num_workers, recreated_worker, config, spaces)\u001B[0m\n\u001B[0;32m   1159\u001B[0m \u001B[38;5;28;01mdef\u001B[39;00m \u001B[38;5;21m_make_worker\u001B[39m(\n\u001B[0;32m   1160\u001B[0m     \u001B[38;5;28mself\u001B[39m,\n\u001B[0;32m   1161\u001B[0m     \u001B[38;5;241m*\u001B[39m,\n\u001B[1;32m   (...)\u001B[0m\n\u001B[0;32m   1171\u001B[0m     ] \u001B[38;5;241m=\u001B[39m \u001B[38;5;28;01mNone\u001B[39;00m,\n\u001B[0;32m   1172\u001B[0m ) \u001B[38;5;241m-\u001B[39m\u001B[38;5;241m>\u001B[39m Union[EnvRunner, ActorHandle]:\n\u001B[1;32m-> 1173\u001B[0m     worker \u001B[38;5;241m=\u001B[39m \u001B[38;5;28;43mcls\u001B[39;49m\u001B[43m(\u001B[49m\n\u001B[0;32m   1174\u001B[0m \u001B[43m        \u001B[49m\u001B[43menv_creator\u001B[49m\u001B[38;5;241;43m=\u001B[39;49m\u001B[43menv_creator\u001B[49m\u001B[43m,\u001B[49m\n\u001B[0;32m   1175\u001B[0m \u001B[43m        \u001B[49m\u001B[43mvalidate_env\u001B[49m\u001B[38;5;241;43m=\u001B[39;49m\u001B[43mvalidate_env\u001B[49m\u001B[43m,\u001B[49m\n\u001B[0;32m   1176\u001B[0m \u001B[43m        \u001B[49m\u001B[43mdefault_policy_class\u001B[49m\u001B[38;5;241;43m=\u001B[39;49m\u001B[38;5;28;43mself\u001B[39;49m\u001B[38;5;241;43m.\u001B[39;49m\u001B[43m_policy_class\u001B[49m\u001B[43m,\u001B[49m\n\u001B[0;32m   1177\u001B[0m \u001B[43m        \u001B[49m\u001B[43mconfig\u001B[49m\u001B[38;5;241;43m=\u001B[39;49m\u001B[43mconfig\u001B[49m\u001B[43m,\u001B[49m\n\u001B[0;32m   1178\u001B[0m \u001B[43m        \u001B[49m\u001B[43mworker_index\u001B[49m\u001B[38;5;241;43m=\u001B[39;49m\u001B[43mworker_index\u001B[49m\u001B[43m,\u001B[49m\n\u001B[0;32m   1179\u001B[0m \u001B[43m        \u001B[49m\u001B[43mnum_workers\u001B[49m\u001B[38;5;241;43m=\u001B[39;49m\u001B[43mnum_workers\u001B[49m\u001B[43m,\u001B[49m\n\u001B[0;32m   1180\u001B[0m \u001B[43m        \u001B[49m\u001B[43mrecreated_worker\u001B[49m\u001B[38;5;241;43m=\u001B[39;49m\u001B[43mrecreated_worker\u001B[49m\u001B[43m,\u001B[49m\n\u001B[0;32m   1181\u001B[0m \u001B[43m        \u001B[49m\u001B[43mlog_dir\u001B[49m\u001B[38;5;241;43m=\u001B[39;49m\u001B[38;5;28;43mself\u001B[39;49m\u001B[38;5;241;43m.\u001B[39;49m\u001B[43m_logdir\u001B[49m\u001B[43m,\u001B[49m\n\u001B[0;32m   1182\u001B[0m \u001B[43m        \u001B[49m\u001B[43mspaces\u001B[49m\u001B[38;5;241;43m=\u001B[39;49m\u001B[43mspaces\u001B[49m\u001B[43m,\u001B[49m\n\u001B[0;32m   1183\u001B[0m \u001B[43m        \u001B[49m\u001B[43mdataset_shards\u001B[49m\u001B[38;5;241;43m=\u001B[39;49m\u001B[38;5;28;43mself\u001B[39;49m\u001B[38;5;241;43m.\u001B[39;49m\u001B[43m_ds_shards\u001B[49m\u001B[43m,\u001B[49m\n\u001B[0;32m   1184\u001B[0m \u001B[43m        \u001B[49m\u001B[43mtune_trial_id\u001B[49m\u001B[38;5;241;43m=\u001B[39;49m\u001B[38;5;28;43mself\u001B[39;49m\u001B[38;5;241;43m.\u001B[39;49m\u001B[43m_tune_trial_id\u001B[49m\u001B[43m,\u001B[49m\n\u001B[0;32m   1185\u001B[0m \u001B[43m    \u001B[49m\u001B[43m)\u001B[49m\n\u001B[0;32m   1187\u001B[0m     \u001B[38;5;28;01mreturn\u001B[39;00m worker\n",
      "File \u001B[1;32m~\\miniconda3\\envs\\pyecom\\lib\\site-packages\\ray\\actor.py:733\u001B[0m, in \u001B[0;36mActorClass.remote\u001B[1;34m(self, *args, **kwargs)\u001B[0m\n\u001B[0;32m    721\u001B[0m \u001B[38;5;28;01mdef\u001B[39;00m \u001B[38;5;21mremote\u001B[39m(\u001B[38;5;28mself\u001B[39m, \u001B[38;5;241m*\u001B[39margs, \u001B[38;5;241m*\u001B[39m\u001B[38;5;241m*\u001B[39mkwargs):\n\u001B[0;32m    722\u001B[0m \u001B[38;5;250m    \u001B[39m\u001B[38;5;124;03m\"\"\"Create an actor.\u001B[39;00m\n\u001B[0;32m    723\u001B[0m \n\u001B[0;32m    724\u001B[0m \u001B[38;5;124;03m    Args:\u001B[39;00m\n\u001B[1;32m   (...)\u001B[0m\n\u001B[0;32m    731\u001B[0m \u001B[38;5;124;03m        A handle to the newly created actor.\u001B[39;00m\n\u001B[0;32m    732\u001B[0m \u001B[38;5;124;03m    \"\"\"\u001B[39;00m\n\u001B[1;32m--> 733\u001B[0m     \u001B[38;5;28;01mreturn\u001B[39;00m \u001B[38;5;28mself\u001B[39m\u001B[38;5;241m.\u001B[39m_remote(args\u001B[38;5;241m=\u001B[39margs, kwargs\u001B[38;5;241m=\u001B[39mkwargs, \u001B[38;5;241m*\u001B[39m\u001B[38;5;241m*\u001B[39m\u001B[38;5;28mself\u001B[39m\u001B[38;5;241m.\u001B[39m_default_options)\n",
      "File \u001B[1;32m~\\miniconda3\\envs\\pyecom\\lib\\site-packages\\ray\\_private\\auto_init_hook.py:21\u001B[0m, in \u001B[0;36mwrap_auto_init.<locals>.auto_init_wrapper\u001B[1;34m(*args, **kwargs)\u001B[0m\n\u001B[0;32m     18\u001B[0m \u001B[38;5;129m@wraps\u001B[39m(fn)\n\u001B[0;32m     19\u001B[0m \u001B[38;5;28;01mdef\u001B[39;00m \u001B[38;5;21mauto_init_wrapper\u001B[39m(\u001B[38;5;241m*\u001B[39margs, \u001B[38;5;241m*\u001B[39m\u001B[38;5;241m*\u001B[39mkwargs):\n\u001B[0;32m     20\u001B[0m     auto_init_ray()\n\u001B[1;32m---> 21\u001B[0m     \u001B[38;5;28;01mreturn\u001B[39;00m fn(\u001B[38;5;241m*\u001B[39margs, \u001B[38;5;241m*\u001B[39m\u001B[38;5;241m*\u001B[39mkwargs)\n",
      "File \u001B[1;32m~\\miniconda3\\envs\\pyecom\\lib\\site-packages\\ray\\util\\tracing\\tracing_helper.py:388\u001B[0m, in \u001B[0;36m_tracing_actor_creation.<locals>._invocation_actor_class_remote_span\u001B[1;34m(self, args, kwargs, *_args, **_kwargs)\u001B[0m\n\u001B[0;32m    386\u001B[0m \u001B[38;5;28;01mif\u001B[39;00m \u001B[38;5;129;01mnot\u001B[39;00m _is_tracing_enabled():\n\u001B[0;32m    387\u001B[0m     \u001B[38;5;28;01massert\u001B[39;00m \u001B[38;5;124m\"\u001B[39m\u001B[38;5;124m_ray_trace_ctx\u001B[39m\u001B[38;5;124m\"\u001B[39m \u001B[38;5;129;01mnot\u001B[39;00m \u001B[38;5;129;01min\u001B[39;00m kwargs\n\u001B[1;32m--> 388\u001B[0m     \u001B[38;5;28;01mreturn\u001B[39;00m method(\u001B[38;5;28mself\u001B[39m, args, kwargs, \u001B[38;5;241m*\u001B[39m_args, \u001B[38;5;241m*\u001B[39m\u001B[38;5;241m*\u001B[39m_kwargs)\n\u001B[0;32m    390\u001B[0m class_name \u001B[38;5;241m=\u001B[39m \u001B[38;5;28mself\u001B[39m\u001B[38;5;241m.\u001B[39m__ray_metadata__\u001B[38;5;241m.\u001B[39mclass_name\n\u001B[0;32m    391\u001B[0m method_name \u001B[38;5;241m=\u001B[39m \u001B[38;5;124m\"\u001B[39m\u001B[38;5;124m__init__\u001B[39m\u001B[38;5;124m\"\u001B[39m\n",
      "File \u001B[1;32m~\\miniconda3\\envs\\pyecom\\lib\\site-packages\\ray\\actor.py:1176\u001B[0m, in \u001B[0;36mActorClass._remote\u001B[1;34m(self, args, kwargs, **actor_options)\u001B[0m\n\u001B[0;32m   1166\u001B[0m         func_name \u001B[38;5;241m=\u001B[39m meta\u001B[38;5;241m.\u001B[39mactor_creation_function_descriptor\u001B[38;5;241m.\u001B[39mfunction_name\n\u001B[0;32m   1167\u001B[0m     meta\u001B[38;5;241m.\u001B[39mactor_creation_function_descriptor \u001B[38;5;241m=\u001B[39m (\n\u001B[0;32m   1168\u001B[0m         cross_language\u001B[38;5;241m.\u001B[39m_get_function_descriptor_for_actor_method(\n\u001B[0;32m   1169\u001B[0m             meta\u001B[38;5;241m.\u001B[39mlanguage,\n\u001B[1;32m   (...)\u001B[0m\n\u001B[0;32m   1173\u001B[0m         )\n\u001B[0;32m   1174\u001B[0m     )\n\u001B[1;32m-> 1176\u001B[0m actor_id \u001B[38;5;241m=\u001B[39m \u001B[43mworker\u001B[49m\u001B[38;5;241;43m.\u001B[39;49m\u001B[43mcore_worker\u001B[49m\u001B[38;5;241;43m.\u001B[39;49m\u001B[43mcreate_actor\u001B[49m\u001B[43m(\u001B[49m\n\u001B[0;32m   1177\u001B[0m \u001B[43m    \u001B[49m\u001B[43mmeta\u001B[49m\u001B[38;5;241;43m.\u001B[39;49m\u001B[43mlanguage\u001B[49m\u001B[43m,\u001B[49m\n\u001B[0;32m   1178\u001B[0m \u001B[43m    \u001B[49m\u001B[43mmeta\u001B[49m\u001B[38;5;241;43m.\u001B[39;49m\u001B[43mactor_creation_function_descriptor\u001B[49m\u001B[43m,\u001B[49m\n\u001B[0;32m   1179\u001B[0m \u001B[43m    \u001B[49m\u001B[43mcreation_args\u001B[49m\u001B[43m,\u001B[49m\n\u001B[0;32m   1180\u001B[0m \u001B[43m    \u001B[49m\u001B[43mmax_restarts\u001B[49m\u001B[43m,\u001B[49m\n\u001B[0;32m   1181\u001B[0m \u001B[43m    \u001B[49m\u001B[43mmax_task_retries\u001B[49m\u001B[43m,\u001B[49m\n\u001B[0;32m   1182\u001B[0m \u001B[43m    \u001B[49m\u001B[43mresources\u001B[49m\u001B[43m,\u001B[49m\n\u001B[0;32m   1183\u001B[0m \u001B[43m    \u001B[49m\u001B[43mactor_placement_resources\u001B[49m\u001B[43m,\u001B[49m\n\u001B[0;32m   1184\u001B[0m \u001B[43m    \u001B[49m\u001B[43mmax_concurrency\u001B[49m\u001B[43m,\u001B[49m\n\u001B[0;32m   1185\u001B[0m \u001B[43m    \u001B[49m\u001B[43mdetached\u001B[49m\u001B[43m,\u001B[49m\n\u001B[0;32m   1186\u001B[0m \u001B[43m    \u001B[49m\u001B[43mname\u001B[49m\u001B[43m \u001B[49m\u001B[38;5;28;43;01mif\u001B[39;49;00m\u001B[43m \u001B[49m\u001B[43mname\u001B[49m\u001B[43m \u001B[49m\u001B[38;5;129;43;01mis\u001B[39;49;00m\u001B[43m \u001B[49m\u001B[38;5;129;43;01mnot\u001B[39;49;00m\u001B[43m \u001B[49m\u001B[38;5;28;43;01mNone\u001B[39;49;00m\u001B[43m \u001B[49m\u001B[38;5;28;43;01melse\u001B[39;49;00m\u001B[43m \u001B[49m\u001B[38;5;124;43m\"\u001B[39;49m\u001B[38;5;124;43m\"\u001B[39;49m\u001B[43m,\u001B[49m\n\u001B[0;32m   1187\u001B[0m \u001B[43m    \u001B[49m\u001B[43mnamespace\u001B[49m\u001B[43m \u001B[49m\u001B[38;5;28;43;01mif\u001B[39;49;00m\u001B[43m \u001B[49m\u001B[43mnamespace\u001B[49m\u001B[43m \u001B[49m\u001B[38;5;129;43;01mis\u001B[39;49;00m\u001B[43m \u001B[49m\u001B[38;5;129;43;01mnot\u001B[39;49;00m\u001B[43m \u001B[49m\u001B[38;5;28;43;01mNone\u001B[39;49;00m\u001B[43m \u001B[49m\u001B[38;5;28;43;01melse\u001B[39;49;00m\u001B[43m \u001B[49m\u001B[38;5;124;43m\"\u001B[39;49m\u001B[38;5;124;43m\"\u001B[39;49m\u001B[43m,\u001B[49m\n\u001B[0;32m   1188\u001B[0m \u001B[43m    \u001B[49m\u001B[43mis_asyncio\u001B[49m\u001B[43m,\u001B[49m\n\u001B[0;32m   1189\u001B[0m \u001B[43m    \u001B[49m\u001B[38;5;66;43;03m# Store actor_method_cpu in actor handle's extension data.\u001B[39;49;00m\n\u001B[0;32m   1190\u001B[0m \u001B[43m    \u001B[49m\u001B[43mextension_data\u001B[49m\u001B[38;5;241;43m=\u001B[39;49m\u001B[38;5;28;43mstr\u001B[39;49m\u001B[43m(\u001B[49m\u001B[43mactor_method_cpu\u001B[49m\u001B[43m)\u001B[49m\u001B[43m,\u001B[49m\n\u001B[0;32m   1191\u001B[0m \u001B[43m    \u001B[49m\u001B[43mserialized_runtime_env_info\u001B[49m\u001B[38;5;241;43m=\u001B[39;49m\u001B[43mserialized_runtime_env_info\u001B[49m\u001B[43m \u001B[49m\u001B[38;5;129;43;01mor\u001B[39;49;00m\u001B[43m \u001B[49m\u001B[38;5;124;43m\"\u001B[39;49m\u001B[38;5;132;43;01m{}\u001B[39;49;00m\u001B[38;5;124;43m\"\u001B[39;49m\u001B[43m,\u001B[49m\n\u001B[0;32m   1192\u001B[0m \u001B[43m    \u001B[49m\u001B[43mconcurrency_groups_dict\u001B[49m\u001B[38;5;241;43m=\u001B[39;49m\u001B[43mconcurrency_groups_dict\u001B[49m\u001B[43m \u001B[49m\u001B[38;5;129;43;01mor\u001B[39;49;00m\u001B[43m \u001B[49m\u001B[38;5;28;43mdict\u001B[39;49m\u001B[43m(\u001B[49m\u001B[43m)\u001B[49m\u001B[43m,\u001B[49m\n\u001B[0;32m   1193\u001B[0m \u001B[43m    \u001B[49m\u001B[43mmax_pending_calls\u001B[49m\u001B[38;5;241;43m=\u001B[39;49m\u001B[43mmax_pending_calls\u001B[49m\u001B[43m,\u001B[49m\n\u001B[0;32m   1194\u001B[0m \u001B[43m    \u001B[49m\u001B[43mscheduling_strategy\u001B[49m\u001B[38;5;241;43m=\u001B[39;49m\u001B[43mscheduling_strategy\u001B[49m\u001B[43m,\u001B[49m\n\u001B[0;32m   1195\u001B[0m \u001B[43m    \u001B[49m\u001B[43menable_task_events\u001B[49m\u001B[38;5;241;43m=\u001B[39;49m\u001B[43menable_task_events\u001B[49m\u001B[43m,\u001B[49m\n\u001B[0;32m   1196\u001B[0m \u001B[43m\u001B[49m\u001B[43m)\u001B[49m\n\u001B[0;32m   1198\u001B[0m \u001B[38;5;28;01mif\u001B[39;00m _actor_launch_hook:\n\u001B[0;32m   1199\u001B[0m     _actor_launch_hook(\n\u001B[0;32m   1200\u001B[0m         meta\u001B[38;5;241m.\u001B[39mactor_creation_function_descriptor, resources, scheduling_strategy\n\u001B[0;32m   1201\u001B[0m     )\n",
      "File \u001B[1;32mpython\\ray\\_raylet.pyx:4103\u001B[0m, in \u001B[0;36mray._raylet.CoreWorker.create_actor\u001B[1;34m()\u001B[0m\n",
      "File \u001B[1;32mpython\\ray\\_raylet.pyx:4108\u001B[0m, in \u001B[0;36mray._raylet.CoreWorker.create_actor\u001B[1;34m()\u001B[0m\n",
      "File \u001B[1;32mpython\\ray\\_raylet.pyx:836\u001B[0m, in \u001B[0;36mray._raylet.prepare_args_and_increment_put_refs\u001B[1;34m()\u001B[0m\n",
      "File \u001B[1;32mpython\\ray\\_raylet.pyx:827\u001B[0m, in \u001B[0;36mray._raylet.prepare_args_and_increment_put_refs\u001B[1;34m()\u001B[0m\n",
      "File \u001B[1;32mpython\\ray\\_raylet.pyx:877\u001B[0m, in \u001B[0;36mray._raylet.prepare_args_internal\u001B[1;34m()\u001B[0m\n",
      "File \u001B[1;32m~\\miniconda3\\envs\\pyecom\\lib\\site-packages\\ray\\_private\\serialization.py:519\u001B[0m, in \u001B[0;36mSerializationContext.serialize\u001B[1;34m(self, value)\u001B[0m\n\u001B[0;32m    517\u001B[0m     \u001B[38;5;28;01mreturn\u001B[39;00m RawSerializedObject(value)\n\u001B[0;32m    518\u001B[0m \u001B[38;5;28;01melse\u001B[39;00m:\n\u001B[1;32m--> 519\u001B[0m     \u001B[38;5;28;01mreturn\u001B[39;00m \u001B[38;5;28;43mself\u001B[39;49m\u001B[38;5;241;43m.\u001B[39;49m\u001B[43m_serialize_to_msgpack\u001B[49m\u001B[43m(\u001B[49m\u001B[43mvalue\u001B[49m\u001B[43m)\u001B[49m\n",
      "File \u001B[1;32m~\\miniconda3\\envs\\pyecom\\lib\\site-packages\\ray\\_private\\serialization.py:503\u001B[0m, in \u001B[0;36mSerializationContext._serialize_to_msgpack\u001B[1;34m(self, value)\u001B[0m\n\u001B[0;32m    500\u001B[0m \u001B[38;5;28;01melse\u001B[39;00m:\n\u001B[0;32m    501\u001B[0m     pickle5_serialized_object \u001B[38;5;241m=\u001B[39m \u001B[38;5;28;01mNone\u001B[39;00m\n\u001B[1;32m--> 503\u001B[0m \u001B[38;5;28;01mreturn\u001B[39;00m \u001B[43mMessagePackSerializedObject\u001B[49m\u001B[43m(\u001B[49m\n\u001B[0;32m    504\u001B[0m \u001B[43m    \u001B[49m\u001B[43mmetadata\u001B[49m\u001B[43m,\u001B[49m\u001B[43m \u001B[49m\u001B[43mmsgpack_data\u001B[49m\u001B[43m,\u001B[49m\u001B[43m \u001B[49m\u001B[43mcontained_object_refs\u001B[49m\u001B[43m,\u001B[49m\u001B[43m \u001B[49m\u001B[43mpickle5_serialized_object\u001B[49m\n\u001B[0;32m    505\u001B[0m \u001B[43m\u001B[49m\u001B[43m)\u001B[49m\n",
      "File \u001B[1;32mpython\\ray\\includes/serialization.pxi:471\u001B[0m, in \u001B[0;36mray._raylet.MessagePackSerializedObject.__init__\u001B[1;34m()\u001B[0m\n",
      "File \u001B[1;32m~\\miniconda3\\envs\\pyecom\\lib\\site-packages\\msgpack\\__init__.py:36\u001B[0m, in \u001B[0;36mpackb\u001B[1;34m(o, **kwargs)\u001B[0m\n\u001B[0;32m     30\u001B[0m \u001B[38;5;28;01mdef\u001B[39;00m \u001B[38;5;21mpackb\u001B[39m(o, \u001B[38;5;241m*\u001B[39m\u001B[38;5;241m*\u001B[39mkwargs):\n\u001B[0;32m     31\u001B[0m \u001B[38;5;250m    \u001B[39m\u001B[38;5;124;03m\"\"\"\u001B[39;00m\n\u001B[0;32m     32\u001B[0m \u001B[38;5;124;03m    Pack object `o` and return packed bytes\u001B[39;00m\n\u001B[0;32m     33\u001B[0m \n\u001B[0;32m     34\u001B[0m \u001B[38;5;124;03m    See :class:`Packer` for options.\u001B[39;00m\n\u001B[0;32m     35\u001B[0m \u001B[38;5;124;03m    \"\"\"\u001B[39;00m\n\u001B[1;32m---> 36\u001B[0m     \u001B[38;5;28;01mreturn\u001B[39;00m Packer(\u001B[38;5;241m*\u001B[39m\u001B[38;5;241m*\u001B[39mkwargs)\u001B[38;5;241m.\u001B[39mpack(o)\n",
      "File \u001B[1;32mmsgpack\\\\_packer.pyx:120\u001B[0m, in \u001B[0;36mmsgpack._cmsgpack.Packer.__cinit__\u001B[1;34m()\u001B[0m\n",
      "\u001B[1;31mMemoryError\u001B[0m: Unable to allocate internal buffer."
     ]
    }
   ],
   "source": [
    "experiment_real = ExperimentRunner(household_ids, results_dir=\"results/real_scenario\",\n",
    "                                   pricing_mode=\"tou\", plot_rewards=True,\n",
    "                                   trading_phases=1,\n",
    "                                   pv_efficiency=0.5,\n",
    "                                   testing_mode=\"testing\", training_params=training_params, eval_interval=4,\n",
    "                                   log_plotting=False, reward_export=False, num_cpus=16, common_reward_factor=0.0, price_based_common_reward_factor=False, common_battery_type=\"lower_efficiency\")\n",
    "experiment_real.run_multiple_training_runs({'few_months': 10}, 'scarce')"
   ],
   "metadata": {
    "collapsed": false
   }
  },
  {
   "cell_type": "code",
   "execution_count": null,
   "outputs": [],
   "source": [
    "experiment_real = ExperimentRunner(household_ids, results_dir=\"results/real_scenario\",\n",
    "                                   pricing_mode=\"tou\", plot_rewards=True,\n",
    "                                   trading_phases=1,\n",
    "                                   pv_efficiency=1.0,\n",
    "                                   testing_mode=\"testing\", training_params=training_params, eval_interval=4,\n",
    "                                   log_plotting=False, reward_export=False, num_cpus=16, common_reward_factor=0.0, price_based_common_reward_factor=False, common_battery_type=\"lower_efficiency\")\n",
    "experiment_real.run_multiple_training_runs({'few_months': 10}, 'normal')"
   ],
   "metadata": {
    "collapsed": false
   }
  },
  {
   "cell_type": "code",
   "execution_count": null,
   "outputs": [],
   "source": [
    "experiment_real = ExperimentRunner(household_ids, results_dir=\"results/real_scenario\",\n",
    "                                   pricing_mode=\"tou\", plot_rewards=True,\n",
    "                                   trading_phases=1,\n",
    "                                   pv_efficiency=2.0,\n",
    "                                   testing_mode=\"testing\", training_params=training_params, eval_interval=4,\n",
    "                                   log_plotting=False, reward_export=False, num_cpus=16, common_reward_factor=0.0, price_based_common_reward_factor=False, common_battery_type=\"lower_efficiency\")\n",
    "experiment_real.run_multiple_training_runs({'few_months': 10}, 'abundant')"
   ],
   "metadata": {
    "collapsed": false
   }
  },
  {
   "cell_type": "code",
   "execution_count": null,
   "outputs": [],
   "source": [
    "experiment_real = ExperimentRunner(household_ids, results_dir=\"results/real_scenario\",\n",
    "                                   pricing_mode=\"tou\", plot_rewards=True,\n",
    "                                   trading_phases=1,\n",
    "                                   pv_efficiency=0.5,\n",
    "                                   testing_mode=\"testing\", training_params=training_params, eval_interval=4,\n",
    "                                   log_plotting=False, reward_export=False, num_cpus=16, common_reward_factor=10.0, price_based_common_reward_factor=False, common_battery_type=\"lower_efficiency\")\n",
    "experiment_real.run_multiple_training_runs({'few_months': 10}, 'mitigation')"
   ],
   "metadata": {
    "collapsed": false
   }
  },
  {
   "cell_type": "code",
   "execution_count": null,
   "outputs": [],
   "source": [
    "results, baselines = get_results_and_baselines_by_label(\"results/real_scenario\", {\n",
    "    \"abundant_run_results\": \"Abundant\",\n",
    "    \"normal_run_results\": \"Normal\",\n",
    "    \"scarce_run_results\": \"Scarce\",\n",
    "    \"mitigation_run_results\": \"Scarce with Mitigation\"\n",
    "})"
   ],
   "metadata": {
    "collapsed": false
   }
  },
  {
   "cell_type": "code",
   "execution_count": null,
   "outputs": [],
   "source": [
    "plot_and_save_rewards_by_label(results, plot_type='bar', file_name=\"plots/real_scenario_rewards_barplot.png\",\n",
    "                               title=\"Final Evaluation Reward Improvement for Different Real Scenarios\",\n",
    "                               xlabel=\"Scenario\", ylabel=\"Average Reward Improvement [%]\", baseline=baselines)"
   ],
   "metadata": {
    "collapsed": false
   }
  },
  {
   "cell_type": "code",
   "execution_count": null,
   "outputs": [],
   "source": [
    "perform_pairwise_analysis_by_coeff(results, baselines)"
   ],
   "metadata": {
    "collapsed": false
   }
  },
  {
   "cell_type": "code",
   "execution_count": null,
   "outputs": [],
   "source": [
    "run_energy_plotting(\"real_scenario\", group_prefix=\"scarce\")"
   ],
   "metadata": {
    "collapsed": false
   }
  },
  {
   "cell_type": "code",
   "execution_count": null,
   "outputs": [],
   "source": [
    "run_energy_plotting(\"real_scenario\", group_prefix=\"mitigation\")"
   ],
   "metadata": {
    "collapsed": false
   }
  }
 ],
 "metadata": {
  "kernelspec": {
   "display_name": "Python 3",
   "language": "python",
   "name": "python3"
  },
  "language_info": {
   "codemirror_mode": {
    "name": "ipython",
    "version": 2
   },
   "file_extension": ".py",
   "mimetype": "text/x-python",
   "name": "python",
   "nbconvert_exporter": "python",
   "pygments_lexer": "ipython2",
   "version": "2.7.6"
  }
 },
 "nbformat": 4,
 "nbformat_minor": 0
}
