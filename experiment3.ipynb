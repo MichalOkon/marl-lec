{
 "cells": [
  {
   "cell_type": "code",
   "execution_count": null,
   "metadata": {
    "collapsed": true
   },
   "outputs": [],
   "source": [
    "from src.experiments.experiment_runner import ExperimentRunner\n",
    "from src.utils.plotting.eval_reward_plotting import read_and_plot_multiple_final_eval_rewards_grouped\n",
    "from src.utils.match_utils import get_results_by_coeff\n",
    "from src.utils.match_utils import perform_pairwise_analysis_baseline\n",
    "from src.utils.match_utils import plot_and_save_rewards_by_coeff\n",
    "from src.utils.plotting.energy_plots import run_energy_plotting\n",
    "\n",
    "%matplotlib notebook"
   ]
  },
  {
   "cell_type": "code",
   "execution_count": null,
   "outputs": [],
   "source": [
    "def get_experiment_name(common_reward_factor, price_based=False):\n",
    "    if price_based:\n",
    "        return \"dilemma_price_based_\" + str(common_reward_factor).replace(\".\", \"_\")\n",
    "    else:\n",
    "        return \"dilemma_\" + str(common_reward_factor).replace(\".\", \"_\")"
   ],
   "metadata": {
    "collapsed": false
   }
  },
  {
   "cell_type": "code",
   "execution_count": null,
   "outputs": [],
   "source": [
    "training_params = {\n",
    "    \"lr\": 5e-5,\n",
    "    \"gamma\": 0.99,\n",
    "    \"train_batch_size\": 50000,\n",
    "    \"sgd_minibatch_size\": 512,\n",
    "    \"clip_param\": 0.15,\n",
    "    \"num_sgd_iter\": 10,\n",
    "    'model': {\n",
    "        'fcnet_hiddens': [256, 256],\n",
    "        'fcnet_activation': 'relu',\n",
    "    },\n",
    "}"
   ],
   "metadata": {
    "collapsed": false
   }
  },
  {
   "cell_type": "code",
   "execution_count": null,
   "outputs": [],
   "source": [
    "# SSD mitigation with fixed common battery reward factor\n",
    "common_reward_factor = 0.0\n",
    "ssd_mitigation = ExperimentRunner(\n",
    "        [27, 27, 27],\n",
    "        results_dir=\"results/dilemma_runs\",\n",
    "        pricing_mode=\"tou\",\n",
    "        plot_rewards=True,\n",
    "        trading_phases=0,\n",
    "        pv_efficiency=0.5,\n",
    "        testing_mode=\"testing\",\n",
    "        training_params=training_params,\n",
    "        eval_interval=4,\n",
    "        log_plotting=False,\n",
    "        num_cpus=16,\n",
    "        common_reward_factor=common_reward_factor,\n",
    "        common_battery_type=\"default\"\n",
    "    )\n",
    "\n",
    "ssd_mitigation.run_multiple_training_runs({'few_months': 10}, get_experiment_name(common_reward_factor))"
   ],
   "metadata": {
    "collapsed": false
   }
  },
  {
   "cell_type": "code",
   "execution_count": null,
   "outputs": [],
   "source": [
    "common_reward_factor = 1.0\n",
    "ssd_mitigation = ExperimentRunner(\n",
    "        [27, 27, 27],\n",
    "        results_dir=\"results/dilemma_runs\",\n",
    "        pricing_mode=\"tou\",\n",
    "        plot_rewards=True,\n",
    "        trading_phases=0,\n",
    "        pv_efficiency=0.5,\n",
    "        testing_mode=\"testing\",\n",
    "        training_params=training_params,\n",
    "        eval_interval=4,\n",
    "        log_plotting=False,\n",
    "        num_cpus=16,\n",
    "        common_reward_factor=common_reward_factor,\n",
    "        common_battery_type=\"default\"\n",
    "    )\n",
    "\n",
    "ssd_mitigation.run_multiple_training_runs({'few_months': 10}, get_experiment_name(common_reward_factor))"
   ],
   "metadata": {
    "collapsed": false
   }
  },
  {
   "cell_type": "code",
   "execution_count": null,
   "outputs": [],
   "source": [
    "common_reward_factor = 2.5\n",
    "ssd_mitigation = ExperimentRunner(\n",
    "        [27, 27, 27],\n",
    "        results_dir=\"results/dilemma_runs\",\n",
    "        pricing_mode=\"tou\",\n",
    "        plot_rewards=True,\n",
    "        trading_phases=0,\n",
    "        pv_efficiency=0.5,\n",
    "        testing_mode=\"testing\",\n",
    "        training_params=training_params,\n",
    "        eval_interval=4,\n",
    "        log_plotting=False,\n",
    "        num_cpus=16,\n",
    "        common_reward_factor=common_reward_factor,\n",
    "        common_battery_type=\"default\"\n",
    "    )\n",
    "\n",
    "ssd_mitigation.run_multiple_training_runs({'few_months': 10}, get_experiment_name(common_reward_factor))"
   ],
   "metadata": {
    "collapsed": false
   }
  },
  {
   "cell_type": "code",
   "execution_count": null,
   "outputs": [],
   "source": [
    "common_reward_factor = 5.0\n",
    "ssd_mitigation = ExperimentRunner(\n",
    "        [27, 27, 27],\n",
    "        results_dir=\"results/dilemma_runs\",\n",
    "        pricing_mode=\"tou\",\n",
    "        plot_rewards=True,\n",
    "        trading_phases=0,\n",
    "        pv_efficiency=0.5,\n",
    "        testing_mode=\"testing\",\n",
    "        training_params=training_params,\n",
    "        eval_interval=4,\n",
    "        log_plotting=False,\n",
    "        num_cpus=16,\n",
    "        common_reward_factor=common_reward_factor,\n",
    "        common_battery_type=\"default\"\n",
    "    )\n",
    "\n",
    "ssd_mitigation.run_multiple_training_runs({'few_months': 10}, get_experiment_name(common_reward_factor))"
   ],
   "metadata": {
    "collapsed": false
   }
  },
  {
   "cell_type": "code",
   "execution_count": null,
   "outputs": [],
   "source": [
    "common_reward_factor = 10.0\n",
    "ssd_mitigation = ExperimentRunner(\n",
    "        [27, 27, 27],\n",
    "        results_dir=\"results/dilemma_runs\",\n",
    "        pricing_mode=\"tou\",\n",
    "        plot_rewards=True,\n",
    "        trading_phases=0,\n",
    "        pv_efficiency=0.5,\n",
    "        testing_mode=\"testing\",\n",
    "        training_params=training_params,\n",
    "        eval_interval=4,\n",
    "        log_plotting=False,\n",
    "        num_cpus=16,\n",
    "        common_reward_factor=common_reward_factor,\n",
    "        common_battery_type=\"default\"\n",
    "    )\n",
    "\n",
    "ssd_mitigation.run_multiple_training_runs({'few_months': 10}, get_experiment_name(common_reward_factor))"
   ],
   "metadata": {
    "collapsed": false
   }
  },
  {
   "cell_type": "code",
   "execution_count": null,
   "outputs": [],
   "source": [
    "common_reward_factor = 25.0\n",
    "ssd_mitigation = ExperimentRunner(\n",
    "        [27, 27, 27],\n",
    "        results_dir=\"results/dilemma_runs\",\n",
    "        pricing_mode=\"tou\",\n",
    "        plot_rewards=True,\n",
    "        trading_phases=0,\n",
    "        pv_efficiency=0.5,\n",
    "        testing_mode=\"testing\",\n",
    "        training_params=training_params,\n",
    "        eval_interval=4,\n",
    "        log_plotting=False,\n",
    "        num_cpus=16,\n",
    "        common_reward_factor=common_reward_factor,\n",
    "        common_battery_type=\"default\"\n",
    "    )\n",
    "\n",
    "ssd_mitigation.run_multiple_training_runs({'few_months': 10}, get_experiment_name(common_reward_factor))"
   ],
   "metadata": {
    "collapsed": false
   }
  },
  {
   "cell_type": "code",
   "execution_count": null,
   "outputs": [],
   "source": [
    "common_reward_factor = 50.0\n",
    "ssd_mitigation = ExperimentRunner(\n",
    "        [27, 27, 27],\n",
    "        results_dir=\"results/dilemma_runs\",\n",
    "        pricing_mode=\"tou\",\n",
    "        plot_rewards=True,\n",
    "        trading_phases=0,\n",
    "        pv_efficiency=0.5,\n",
    "        testing_mode=\"testing\",\n",
    "        training_params=training_params,\n",
    "        eval_interval=4,\n",
    "        log_plotting=False,\n",
    "        num_cpus=16,\n",
    "        common_reward_factor=common_reward_factor,\n",
    "        common_battery_type=\"default\"\n",
    "    )\n",
    "\n",
    "ssd_mitigation.run_multiple_training_runs({'few_months': 10}, get_experiment_name(common_reward_factor))"
   ],
   "metadata": {
    "collapsed": false
   }
  },
  {
   "cell_type": "code",
   "execution_count": null,
   "outputs": [],
   "source": [
    "results_dir = \"dilemma_runs\"\n",
    "read_and_plot_multiple_final_eval_rewards_grouped(\"results/{}/train\".format(results_dir), [\"dilemma_0_run\", \"dilemma_1_run\", \"dilemma_2_5_run\", \"dilemma_5_run\", \"dilemma_10_run\", \"dilemma_25_run\", \"dilemma_50_run\"], [\"0\", \"1\", \"2.5\", \"5\", \"10\", \"25\", \"50\"], save_path=\"results/{}/eval_rewards_{}.png\".format(results_dir, results_dir), common_battery_reward_mode=True, limit_y=True)"
   ],
   "metadata": {
    "collapsed": false
   }
  },
  {
   "cell_type": "code",
   "execution_count": null,
   "outputs": [],
   "source": [
    "# Plotting rewards\n",
    "root_dir = 'results/dilemma_runs'\n",
    "\n",
    "results_by_coeff = get_results_by_coeff(root_dir)"
   ],
   "metadata": {
    "collapsed": false
   }
  },
  {
   "cell_type": "code",
   "execution_count": null,
   "outputs": [],
   "source": [
    "perform_pairwise_analysis_baseline(results_by_coeff)"
   ],
   "metadata": {
    "collapsed": false
   }
  },
  {
   "cell_type": "code",
   "execution_count": null,
   "outputs": [],
   "source": [
    "plot_and_save_rewards_by_coeff(results_by_coeff, plot_type='boxplot', file_name=\"plots/mitigation_fixed_coefficient_0_5_pv_boxplot.png\",\n",
    "                      title=r\"Final Evaluation Costs for Different $\\beta_s$ Values, $\\eta_{\\text{pv}} = 0.5$\", xlabel=r'$\\beta_s$', sort_numerically=True)"
   ],
   "metadata": {
    "collapsed": false
   }
  },
  {
   "cell_type": "code",
   "execution_count": null,
   "outputs": [],
   "source": [
    "run_energy_plotting(\"dilemma_runs\", group_prefix=\"dilemma_0_run\")"
   ],
   "metadata": {
    "collapsed": false
   }
  },
  {
   "cell_type": "code",
   "execution_count": null,
   "outputs": [],
   "source": [
    "run_energy_plotting(\"dilemma_runs\", group_prefix=\"dilemma_10_run\")"
   ],
   "metadata": {
    "collapsed": false
   }
  },
  {
   "cell_type": "code",
   "execution_count": null,
   "outputs": [],
   "source": [
    "run_energy_plotting(\"dilemma_runs\", group_prefix=\"dilemma_25_run\")"
   ],
   "metadata": {
    "collapsed": false
   }
  },
  {
   "cell_type": "code",
   "execution_count": null,
   "outputs": [],
   "source": [
    "# SSD mitigation with price-based common battery reward factor\n",
    "common_reward_factor = 0.0\n",
    "ssd_mitigation = ExperimentRunner(\n",
    "        [27, 27, 27],\n",
    "        results_dir=\"results/dilemma_runs_price_based\",\n",
    "        pricing_mode=\"tou\",\n",
    "        plot_rewards=True,\n",
    "        trading_phases=0,\n",
    "        pv_efficiency=0.5,\n",
    "        testing_mode=\"testing\",\n",
    "        training_params=training_params,\n",
    "        eval_interval=4,\n",
    "        log_plotting=False,\n",
    "        num_cpus=16,\n",
    "        common_reward_factor=common_reward_factor,\n",
    "        price_based_common_reward_factor=True,\n",
    "        common_battery_type=\"default\"\n",
    "    )\n",
    "\n",
    "ssd_mitigation.run_multiple_training_runs({'few_months': 10}, get_experiment_name(common_reward_factor, True))"
   ],
   "metadata": {
    "collapsed": false
   }
  },
  {
   "cell_type": "code",
   "execution_count": null,
   "outputs": [],
   "source": [
    "common_reward_factor = 0.1\n",
    "ssd_mitigation = ExperimentRunner(\n",
    "        [27, 27, 27],\n",
    "        results_dir=\"results/dilemma_runs_price_based\",\n",
    "        pricing_mode=\"tou\",\n",
    "        plot_rewards=True,\n",
    "        trading_phases=0,\n",
    "        pv_efficiency=0.5,\n",
    "        testing_mode=\"testing\",\n",
    "        training_params=training_params,\n",
    "        eval_interval=4,\n",
    "        log_plotting=False,\n",
    "        num_cpus=16,\n",
    "        common_reward_factor=common_reward_factor,\n",
    "        price_based_common_reward_factor=True,\n",
    "        common_battery_type=\"default\"\n",
    "    )\n",
    "\n",
    "ssd_mitigation.run_multiple_training_runs({'few_months': 10}, get_experiment_name(common_reward_factor, True))"
   ],
   "metadata": {
    "collapsed": false
   }
  },
  {
   "cell_type": "code",
   "execution_count": null,
   "outputs": [],
   "source": [
    "# SSD mitigation with price-based common battery reward factor\n",
    "common_reward_factor = 0.25\n",
    "ssd_mitigation = ExperimentRunner(\n",
    "        [27, 27, 27],\n",
    "        results_dir=\"results/dilemma_runs_price_based\",\n",
    "        pricing_mode=\"tou\",\n",
    "        plot_rewards=True,\n",
    "        trading_phases=0,\n",
    "        pv_efficiency=0.5,\n",
    "        testing_mode=\"testing\",\n",
    "        training_params=training_params,\n",
    "        eval_interval=4,\n",
    "        log_plotting=False,\n",
    "        num_cpus=16,\n",
    "        common_reward_factor=common_reward_factor,\n",
    "        price_based_common_reward_factor=True,\n",
    "        common_battery_type=\"default\"\n",
    "    )\n",
    "\n",
    "ssd_mitigation.run_multiple_training_runs({'few_months': 10}, get_experiment_name(common_reward_factor, True))"
   ],
   "metadata": {
    "collapsed": false
   }
  },
  {
   "cell_type": "code",
   "execution_count": null,
   "outputs": [],
   "source": [
    "# SSD mitigation with price-based common battery reward factor\n",
    "common_reward_factor = 0.5\n",
    "ssd_mitigation = ExperimentRunner(\n",
    "        [27, 27, 27],\n",
    "        results_dir=\"results/dilemma_runs_price_based\",\n",
    "        pricing_mode=\"tou\",\n",
    "        plot_rewards=True,\n",
    "        trading_phases=0,\n",
    "        pv_efficiency=0.5,\n",
    "        testing_mode=\"testing\",\n",
    "        training_params=training_params,\n",
    "        eval_interval=4,\n",
    "        log_plotting=False,\n",
    "        num_cpus=16,\n",
    "        common_reward_factor=common_reward_factor,\n",
    "        price_based_common_reward_factor=True,\n",
    "        common_battery_type=\"default\"\n",
    "    )\n",
    "\n",
    "ssd_mitigation.run_multiple_training_runs({'few_months': 10}, get_experiment_name(common_reward_factor, True))"
   ],
   "metadata": {
    "collapsed": false
   }
  },
  {
   "cell_type": "code",
   "execution_count": null,
   "outputs": [],
   "source": [
    "root_dir = 'results/dilemma_price_based'\n",
    "results_by_coeff = get_results_by_coeff(root_dir)"
   ],
   "metadata": {
    "collapsed": false
   }
  },
  {
   "cell_type": "code",
   "execution_count": null,
   "outputs": [],
   "source": [
    "analysis_results = perform_pairwise_analysis_baseline(results_by_coeff)"
   ],
   "metadata": {
    "collapsed": false
   }
  },
  {
   "cell_type": "code",
   "execution_count": null,
   "outputs": [],
   "source": [
    "plot_and_save_rewards_by_coeff(results_by_coeff, plot_type='boxplot', file_name=\"plots/mitigation_price_coefficient_0_5_pv_boxplot.png\",\n",
    "                      title=r\"Final Evaluation Costs for Different $\\lambda_s$ Values, $\\eta_{\\text{pv}} = 0.5$\", xlabel=r'$\\lambda_s$')"
   ],
   "metadata": {
    "collapsed": false
   }
  }
 ],
 "metadata": {
  "kernelspec": {
   "display_name": "Python 3",
   "language": "python",
   "name": "python3"
  },
  "language_info": {
   "codemirror_mode": {
    "name": "ipython",
    "version": 2
   },
   "file_extension": ".py",
   "mimetype": "text/x-python",
   "name": "python",
   "nbconvert_exporter": "python",
   "pygments_lexer": "ipython2",
   "version": "2.7.6"
  }
 },
 "nbformat": 4,
 "nbformat_minor": 0
}
